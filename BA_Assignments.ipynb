{
  "nbformat": 4,
  "nbformat_minor": 0,
  "metadata": {
    "colab": {
      "provenance": []
    },
    "kernelspec": {
      "name": "python3",
      "display_name": "Python 3"
    },
    "language_info": {
      "name": "python"
    }
  },
  "cells": [
    {
      "cell_type": "markdown",
      "source": [
        "# Assignment 1"
      ],
      "metadata": {
        "id": "Z-nEOfXeXvvY"
      }
    },
    {
      "cell_type": "markdown",
      "source": [
        "NOTE-1: ALL COMPUTATIONS FOR QUESTION NUMBERS 1 to 13 NEED TO BE\n",
        "OBTAINED FROM GOOGLE COLAB ONLY. Answers from other software (like Excel, PyCharm, Jupyter Notebook, etc.) may differ from the provided answers. Hence, such different answers will not be awarded marks, given the assignment is auto-graded.\n",
        "NOTE-2: For ALL QUESTIONS in this assignment, input your answers rounded to 4 decimal\n",
        "places. For example, if your answer is “1.234567” input the answer as “1.2435”\n",
        "A car maker is exploring the distribution of defects in the assembly line. Data on defective\n",
        "cars produced (a sample of 120 defective cars) on the assembly line are presented in the file\n",
        "titled (GOF_24t2_3.xlsx). The file contains one column - obs. The obs indicates the number of scratches found in a produced car. You are hired as the business analyst to assist the car maker in answering the following\n",
        "questions (Question Numbers 1 to 7)."
      ],
      "metadata": {
        "id": "gSI8DefDzEMF"
      }
    },
    {
      "cell_type": "markdown",
      "source": [
        "## Import Libraries and Load files"
      ],
      "metadata": {
        "id": "2yjfJWJ_W_8Q"
      }
    },
    {
      "cell_type": "markdown",
      "source": [],
      "metadata": {
        "id": "j4HyKLeobX2f"
      }
    },
    {
      "cell_type": "code",
      "source": [
        "import numpy as np\n",
        "import pandas as pd\n",
        "import matplotlib.pyplot as plt\n",
        "import seaborn as sns\n",
        "from scipy import stats\n",
        "from scipy.stats import poisson, chisquare, chi2_contingency"
      ],
      "metadata": {
        "id": "Ezk-GApcM6PB"
      },
      "execution_count": 58,
      "outputs": []
    },
    {
      "cell_type": "code",
      "execution_count": 59,
      "metadata": {
        "id": "mYN_-uhIA8Ih"
      },
      "outputs": [],
      "source": [
        "df_excel = pd.read_excel('/content/GOF_24t2_3xlsx.xlsx')\n",
        "df_csv = pd.read_csv('/content/iitm_onlineDegree.csv')"
      ]
    },
    {
      "cell_type": "code",
      "source": [
        "df_excel.head()"
      ],
      "metadata": {
        "colab": {
          "base_uri": "https://localhost:8080/",
          "height": 206
        },
        "id": "0ExExASLB5rr",
        "outputId": "3b42632f-a4de-443b-8844-7e974517dc7e"
      },
      "execution_count": 60,
      "outputs": [
        {
          "output_type": "execute_result",
          "data": {
            "text/plain": [
              "   obs\n",
              "0    4\n",
              "1    3\n",
              "2    8\n",
              "3    7\n",
              "4    4"
            ],
            "text/html": [
              "\n",
              "  <div id=\"df-59cd3e42-6ca5-495e-a1ba-91bf00c4e108\" class=\"colab-df-container\">\n",
              "    <div>\n",
              "<style scoped>\n",
              "    .dataframe tbody tr th:only-of-type {\n",
              "        vertical-align: middle;\n",
              "    }\n",
              "\n",
              "    .dataframe tbody tr th {\n",
              "        vertical-align: top;\n",
              "    }\n",
              "\n",
              "    .dataframe thead th {\n",
              "        text-align: right;\n",
              "    }\n",
              "</style>\n",
              "<table border=\"1\" class=\"dataframe\">\n",
              "  <thead>\n",
              "    <tr style=\"text-align: right;\">\n",
              "      <th></th>\n",
              "      <th>obs</th>\n",
              "    </tr>\n",
              "  </thead>\n",
              "  <tbody>\n",
              "    <tr>\n",
              "      <th>0</th>\n",
              "      <td>4</td>\n",
              "    </tr>\n",
              "    <tr>\n",
              "      <th>1</th>\n",
              "      <td>3</td>\n",
              "    </tr>\n",
              "    <tr>\n",
              "      <th>2</th>\n",
              "      <td>8</td>\n",
              "    </tr>\n",
              "    <tr>\n",
              "      <th>3</th>\n",
              "      <td>7</td>\n",
              "    </tr>\n",
              "    <tr>\n",
              "      <th>4</th>\n",
              "      <td>4</td>\n",
              "    </tr>\n",
              "  </tbody>\n",
              "</table>\n",
              "</div>\n",
              "    <div class=\"colab-df-buttons\">\n",
              "\n",
              "  <div class=\"colab-df-container\">\n",
              "    <button class=\"colab-df-convert\" onclick=\"convertToInteractive('df-59cd3e42-6ca5-495e-a1ba-91bf00c4e108')\"\n",
              "            title=\"Convert this dataframe to an interactive table.\"\n",
              "            style=\"display:none;\">\n",
              "\n",
              "  <svg xmlns=\"http://www.w3.org/2000/svg\" height=\"24px\" viewBox=\"0 -960 960 960\">\n",
              "    <path d=\"M120-120v-720h720v720H120Zm60-500h600v-160H180v160Zm220 220h160v-160H400v160Zm0 220h160v-160H400v160ZM180-400h160v-160H180v160Zm440 0h160v-160H620v160ZM180-180h160v-160H180v160Zm440 0h160v-160H620v160Z\"/>\n",
              "  </svg>\n",
              "    </button>\n",
              "\n",
              "  <style>\n",
              "    .colab-df-container {\n",
              "      display:flex;\n",
              "      gap: 12px;\n",
              "    }\n",
              "\n",
              "    .colab-df-convert {\n",
              "      background-color: #E8F0FE;\n",
              "      border: none;\n",
              "      border-radius: 50%;\n",
              "      cursor: pointer;\n",
              "      display: none;\n",
              "      fill: #1967D2;\n",
              "      height: 32px;\n",
              "      padding: 0 0 0 0;\n",
              "      width: 32px;\n",
              "    }\n",
              "\n",
              "    .colab-df-convert:hover {\n",
              "      background-color: #E2EBFA;\n",
              "      box-shadow: 0px 1px 2px rgba(60, 64, 67, 0.3), 0px 1px 3px 1px rgba(60, 64, 67, 0.15);\n",
              "      fill: #174EA6;\n",
              "    }\n",
              "\n",
              "    .colab-df-buttons div {\n",
              "      margin-bottom: 4px;\n",
              "    }\n",
              "\n",
              "    [theme=dark] .colab-df-convert {\n",
              "      background-color: #3B4455;\n",
              "      fill: #D2E3FC;\n",
              "    }\n",
              "\n",
              "    [theme=dark] .colab-df-convert:hover {\n",
              "      background-color: #434B5C;\n",
              "      box-shadow: 0px 1px 3px 1px rgba(0, 0, 0, 0.15);\n",
              "      filter: drop-shadow(0px 1px 2px rgba(0, 0, 0, 0.3));\n",
              "      fill: #FFFFFF;\n",
              "    }\n",
              "  </style>\n",
              "\n",
              "    <script>\n",
              "      const buttonEl =\n",
              "        document.querySelector('#df-59cd3e42-6ca5-495e-a1ba-91bf00c4e108 button.colab-df-convert');\n",
              "      buttonEl.style.display =\n",
              "        google.colab.kernel.accessAllowed ? 'block' : 'none';\n",
              "\n",
              "      async function convertToInteractive(key) {\n",
              "        const element = document.querySelector('#df-59cd3e42-6ca5-495e-a1ba-91bf00c4e108');\n",
              "        const dataTable =\n",
              "          await google.colab.kernel.invokeFunction('convertToInteractive',\n",
              "                                                    [key], {});\n",
              "        if (!dataTable) return;\n",
              "\n",
              "        const docLinkHtml = 'Like what you see? Visit the ' +\n",
              "          '<a target=\"_blank\" href=https://colab.research.google.com/notebooks/data_table.ipynb>data table notebook</a>'\n",
              "          + ' to learn more about interactive tables.';\n",
              "        element.innerHTML = '';\n",
              "        dataTable['output_type'] = 'display_data';\n",
              "        await google.colab.output.renderOutput(dataTable, element);\n",
              "        const docLink = document.createElement('div');\n",
              "        docLink.innerHTML = docLinkHtml;\n",
              "        element.appendChild(docLink);\n",
              "      }\n",
              "    </script>\n",
              "  </div>\n",
              "\n",
              "\n",
              "<div id=\"df-7cf156cf-d9d8-43df-949a-6aa550f0f5d5\">\n",
              "  <button class=\"colab-df-quickchart\" onclick=\"quickchart('df-7cf156cf-d9d8-43df-949a-6aa550f0f5d5')\"\n",
              "            title=\"Suggest charts\"\n",
              "            style=\"display:none;\">\n",
              "\n",
              "<svg xmlns=\"http://www.w3.org/2000/svg\" height=\"24px\"viewBox=\"0 0 24 24\"\n",
              "     width=\"24px\">\n",
              "    <g>\n",
              "        <path d=\"M19 3H5c-1.1 0-2 .9-2 2v14c0 1.1.9 2 2 2h14c1.1 0 2-.9 2-2V5c0-1.1-.9-2-2-2zM9 17H7v-7h2v7zm4 0h-2V7h2v10zm4 0h-2v-4h2v4z\"/>\n",
              "    </g>\n",
              "</svg>\n",
              "  </button>\n",
              "\n",
              "<style>\n",
              "  .colab-df-quickchart {\n",
              "      --bg-color: #E8F0FE;\n",
              "      --fill-color: #1967D2;\n",
              "      --hover-bg-color: #E2EBFA;\n",
              "      --hover-fill-color: #174EA6;\n",
              "      --disabled-fill-color: #AAA;\n",
              "      --disabled-bg-color: #DDD;\n",
              "  }\n",
              "\n",
              "  [theme=dark] .colab-df-quickchart {\n",
              "      --bg-color: #3B4455;\n",
              "      --fill-color: #D2E3FC;\n",
              "      --hover-bg-color: #434B5C;\n",
              "      --hover-fill-color: #FFFFFF;\n",
              "      --disabled-bg-color: #3B4455;\n",
              "      --disabled-fill-color: #666;\n",
              "  }\n",
              "\n",
              "  .colab-df-quickchart {\n",
              "    background-color: var(--bg-color);\n",
              "    border: none;\n",
              "    border-radius: 50%;\n",
              "    cursor: pointer;\n",
              "    display: none;\n",
              "    fill: var(--fill-color);\n",
              "    height: 32px;\n",
              "    padding: 0;\n",
              "    width: 32px;\n",
              "  }\n",
              "\n",
              "  .colab-df-quickchart:hover {\n",
              "    background-color: var(--hover-bg-color);\n",
              "    box-shadow: 0 1px 2px rgba(60, 64, 67, 0.3), 0 1px 3px 1px rgba(60, 64, 67, 0.15);\n",
              "    fill: var(--button-hover-fill-color);\n",
              "  }\n",
              "\n",
              "  .colab-df-quickchart-complete:disabled,\n",
              "  .colab-df-quickchart-complete:disabled:hover {\n",
              "    background-color: var(--disabled-bg-color);\n",
              "    fill: var(--disabled-fill-color);\n",
              "    box-shadow: none;\n",
              "  }\n",
              "\n",
              "  .colab-df-spinner {\n",
              "    border: 2px solid var(--fill-color);\n",
              "    border-color: transparent;\n",
              "    border-bottom-color: var(--fill-color);\n",
              "    animation:\n",
              "      spin 1s steps(1) infinite;\n",
              "  }\n",
              "\n",
              "  @keyframes spin {\n",
              "    0% {\n",
              "      border-color: transparent;\n",
              "      border-bottom-color: var(--fill-color);\n",
              "      border-left-color: var(--fill-color);\n",
              "    }\n",
              "    20% {\n",
              "      border-color: transparent;\n",
              "      border-left-color: var(--fill-color);\n",
              "      border-top-color: var(--fill-color);\n",
              "    }\n",
              "    30% {\n",
              "      border-color: transparent;\n",
              "      border-left-color: var(--fill-color);\n",
              "      border-top-color: var(--fill-color);\n",
              "      border-right-color: var(--fill-color);\n",
              "    }\n",
              "    40% {\n",
              "      border-color: transparent;\n",
              "      border-right-color: var(--fill-color);\n",
              "      border-top-color: var(--fill-color);\n",
              "    }\n",
              "    60% {\n",
              "      border-color: transparent;\n",
              "      border-right-color: var(--fill-color);\n",
              "    }\n",
              "    80% {\n",
              "      border-color: transparent;\n",
              "      border-right-color: var(--fill-color);\n",
              "      border-bottom-color: var(--fill-color);\n",
              "    }\n",
              "    90% {\n",
              "      border-color: transparent;\n",
              "      border-bottom-color: var(--fill-color);\n",
              "    }\n",
              "  }\n",
              "</style>\n",
              "\n",
              "  <script>\n",
              "    async function quickchart(key) {\n",
              "      const quickchartButtonEl =\n",
              "        document.querySelector('#' + key + ' button');\n",
              "      quickchartButtonEl.disabled = true;  // To prevent multiple clicks.\n",
              "      quickchartButtonEl.classList.add('colab-df-spinner');\n",
              "      try {\n",
              "        const charts = await google.colab.kernel.invokeFunction(\n",
              "            'suggestCharts', [key], {});\n",
              "      } catch (error) {\n",
              "        console.error('Error during call to suggestCharts:', error);\n",
              "      }\n",
              "      quickchartButtonEl.classList.remove('colab-df-spinner');\n",
              "      quickchartButtonEl.classList.add('colab-df-quickchart-complete');\n",
              "    }\n",
              "    (() => {\n",
              "      let quickchartButtonEl =\n",
              "        document.querySelector('#df-7cf156cf-d9d8-43df-949a-6aa550f0f5d5 button');\n",
              "      quickchartButtonEl.style.display =\n",
              "        google.colab.kernel.accessAllowed ? 'block' : 'none';\n",
              "    })();\n",
              "  </script>\n",
              "</div>\n",
              "\n",
              "    </div>\n",
              "  </div>\n"
            ],
            "application/vnd.google.colaboratory.intrinsic+json": {
              "type": "dataframe",
              "variable_name": "df_excel",
              "summary": "{\n  \"name\": \"df_excel\",\n  \"rows\": 120,\n  \"fields\": [\n    {\n      \"column\": \"obs\",\n      \"properties\": {\n        \"dtype\": \"number\",\n        \"std\": 2,\n        \"min\": 0,\n        \"max\": 10,\n        \"num_unique_values\": 10,\n        \"samples\": [\n          6,\n          3,\n          10\n        ],\n        \"semantic_type\": \"\",\n        \"description\": \"\"\n      }\n    }\n  ]\n}"
            }
          },
          "metadata": {},
          "execution_count": 60
        }
      ]
    },
    {
      "cell_type": "code",
      "source": [
        "df_csv.head()"
      ],
      "metadata": {
        "colab": {
          "base_uri": "https://localhost:8080/",
          "height": 206
        },
        "id": "ahy4_K8MB_P-",
        "outputId": "56909c0e-3253-49a3-c2cd-61f610ba43d5"
      },
      "execution_count": 61,
      "outputs": [
        {
          "output_type": "execute_result",
          "data": {
            "text/plain": [
              "   Gender   Preference\n",
              "0  Female     Business\n",
              "1  Female  Programming\n",
              "2    Male     Business\n",
              "3  Female   Statistics\n",
              "4  Female  Programming"
            ],
            "text/html": [
              "\n",
              "  <div id=\"df-06ded466-1f6a-49c8-881f-368aaf0e7e06\" class=\"colab-df-container\">\n",
              "    <div>\n",
              "<style scoped>\n",
              "    .dataframe tbody tr th:only-of-type {\n",
              "        vertical-align: middle;\n",
              "    }\n",
              "\n",
              "    .dataframe tbody tr th {\n",
              "        vertical-align: top;\n",
              "    }\n",
              "\n",
              "    .dataframe thead th {\n",
              "        text-align: right;\n",
              "    }\n",
              "</style>\n",
              "<table border=\"1\" class=\"dataframe\">\n",
              "  <thead>\n",
              "    <tr style=\"text-align: right;\">\n",
              "      <th></th>\n",
              "      <th>Gender</th>\n",
              "      <th>Preference</th>\n",
              "    </tr>\n",
              "  </thead>\n",
              "  <tbody>\n",
              "    <tr>\n",
              "      <th>0</th>\n",
              "      <td>Female</td>\n",
              "      <td>Business</td>\n",
              "    </tr>\n",
              "    <tr>\n",
              "      <th>1</th>\n",
              "      <td>Female</td>\n",
              "      <td>Programming</td>\n",
              "    </tr>\n",
              "    <tr>\n",
              "      <th>2</th>\n",
              "      <td>Male</td>\n",
              "      <td>Business</td>\n",
              "    </tr>\n",
              "    <tr>\n",
              "      <th>3</th>\n",
              "      <td>Female</td>\n",
              "      <td>Statistics</td>\n",
              "    </tr>\n",
              "    <tr>\n",
              "      <th>4</th>\n",
              "      <td>Female</td>\n",
              "      <td>Programming</td>\n",
              "    </tr>\n",
              "  </tbody>\n",
              "</table>\n",
              "</div>\n",
              "    <div class=\"colab-df-buttons\">\n",
              "\n",
              "  <div class=\"colab-df-container\">\n",
              "    <button class=\"colab-df-convert\" onclick=\"convertToInteractive('df-06ded466-1f6a-49c8-881f-368aaf0e7e06')\"\n",
              "            title=\"Convert this dataframe to an interactive table.\"\n",
              "            style=\"display:none;\">\n",
              "\n",
              "  <svg xmlns=\"http://www.w3.org/2000/svg\" height=\"24px\" viewBox=\"0 -960 960 960\">\n",
              "    <path d=\"M120-120v-720h720v720H120Zm60-500h600v-160H180v160Zm220 220h160v-160H400v160Zm0 220h160v-160H400v160ZM180-400h160v-160H180v160Zm440 0h160v-160H620v160ZM180-180h160v-160H180v160Zm440 0h160v-160H620v160Z\"/>\n",
              "  </svg>\n",
              "    </button>\n",
              "\n",
              "  <style>\n",
              "    .colab-df-container {\n",
              "      display:flex;\n",
              "      gap: 12px;\n",
              "    }\n",
              "\n",
              "    .colab-df-convert {\n",
              "      background-color: #E8F0FE;\n",
              "      border: none;\n",
              "      border-radius: 50%;\n",
              "      cursor: pointer;\n",
              "      display: none;\n",
              "      fill: #1967D2;\n",
              "      height: 32px;\n",
              "      padding: 0 0 0 0;\n",
              "      width: 32px;\n",
              "    }\n",
              "\n",
              "    .colab-df-convert:hover {\n",
              "      background-color: #E2EBFA;\n",
              "      box-shadow: 0px 1px 2px rgba(60, 64, 67, 0.3), 0px 1px 3px 1px rgba(60, 64, 67, 0.15);\n",
              "      fill: #174EA6;\n",
              "    }\n",
              "\n",
              "    .colab-df-buttons div {\n",
              "      margin-bottom: 4px;\n",
              "    }\n",
              "\n",
              "    [theme=dark] .colab-df-convert {\n",
              "      background-color: #3B4455;\n",
              "      fill: #D2E3FC;\n",
              "    }\n",
              "\n",
              "    [theme=dark] .colab-df-convert:hover {\n",
              "      background-color: #434B5C;\n",
              "      box-shadow: 0px 1px 3px 1px rgba(0, 0, 0, 0.15);\n",
              "      filter: drop-shadow(0px 1px 2px rgba(0, 0, 0, 0.3));\n",
              "      fill: #FFFFFF;\n",
              "    }\n",
              "  </style>\n",
              "\n",
              "    <script>\n",
              "      const buttonEl =\n",
              "        document.querySelector('#df-06ded466-1f6a-49c8-881f-368aaf0e7e06 button.colab-df-convert');\n",
              "      buttonEl.style.display =\n",
              "        google.colab.kernel.accessAllowed ? 'block' : 'none';\n",
              "\n",
              "      async function convertToInteractive(key) {\n",
              "        const element = document.querySelector('#df-06ded466-1f6a-49c8-881f-368aaf0e7e06');\n",
              "        const dataTable =\n",
              "          await google.colab.kernel.invokeFunction('convertToInteractive',\n",
              "                                                    [key], {});\n",
              "        if (!dataTable) return;\n",
              "\n",
              "        const docLinkHtml = 'Like what you see? Visit the ' +\n",
              "          '<a target=\"_blank\" href=https://colab.research.google.com/notebooks/data_table.ipynb>data table notebook</a>'\n",
              "          + ' to learn more about interactive tables.';\n",
              "        element.innerHTML = '';\n",
              "        dataTable['output_type'] = 'display_data';\n",
              "        await google.colab.output.renderOutput(dataTable, element);\n",
              "        const docLink = document.createElement('div');\n",
              "        docLink.innerHTML = docLinkHtml;\n",
              "        element.appendChild(docLink);\n",
              "      }\n",
              "    </script>\n",
              "  </div>\n",
              "\n",
              "\n",
              "<div id=\"df-0d69ae3f-5fb0-4b52-89cc-91f12cf9bf99\">\n",
              "  <button class=\"colab-df-quickchart\" onclick=\"quickchart('df-0d69ae3f-5fb0-4b52-89cc-91f12cf9bf99')\"\n",
              "            title=\"Suggest charts\"\n",
              "            style=\"display:none;\">\n",
              "\n",
              "<svg xmlns=\"http://www.w3.org/2000/svg\" height=\"24px\"viewBox=\"0 0 24 24\"\n",
              "     width=\"24px\">\n",
              "    <g>\n",
              "        <path d=\"M19 3H5c-1.1 0-2 .9-2 2v14c0 1.1.9 2 2 2h14c1.1 0 2-.9 2-2V5c0-1.1-.9-2-2-2zM9 17H7v-7h2v7zm4 0h-2V7h2v10zm4 0h-2v-4h2v4z\"/>\n",
              "    </g>\n",
              "</svg>\n",
              "  </button>\n",
              "\n",
              "<style>\n",
              "  .colab-df-quickchart {\n",
              "      --bg-color: #E8F0FE;\n",
              "      --fill-color: #1967D2;\n",
              "      --hover-bg-color: #E2EBFA;\n",
              "      --hover-fill-color: #174EA6;\n",
              "      --disabled-fill-color: #AAA;\n",
              "      --disabled-bg-color: #DDD;\n",
              "  }\n",
              "\n",
              "  [theme=dark] .colab-df-quickchart {\n",
              "      --bg-color: #3B4455;\n",
              "      --fill-color: #D2E3FC;\n",
              "      --hover-bg-color: #434B5C;\n",
              "      --hover-fill-color: #FFFFFF;\n",
              "      --disabled-bg-color: #3B4455;\n",
              "      --disabled-fill-color: #666;\n",
              "  }\n",
              "\n",
              "  .colab-df-quickchart {\n",
              "    background-color: var(--bg-color);\n",
              "    border: none;\n",
              "    border-radius: 50%;\n",
              "    cursor: pointer;\n",
              "    display: none;\n",
              "    fill: var(--fill-color);\n",
              "    height: 32px;\n",
              "    padding: 0;\n",
              "    width: 32px;\n",
              "  }\n",
              "\n",
              "  .colab-df-quickchart:hover {\n",
              "    background-color: var(--hover-bg-color);\n",
              "    box-shadow: 0 1px 2px rgba(60, 64, 67, 0.3), 0 1px 3px 1px rgba(60, 64, 67, 0.15);\n",
              "    fill: var(--button-hover-fill-color);\n",
              "  }\n",
              "\n",
              "  .colab-df-quickchart-complete:disabled,\n",
              "  .colab-df-quickchart-complete:disabled:hover {\n",
              "    background-color: var(--disabled-bg-color);\n",
              "    fill: var(--disabled-fill-color);\n",
              "    box-shadow: none;\n",
              "  }\n",
              "\n",
              "  .colab-df-spinner {\n",
              "    border: 2px solid var(--fill-color);\n",
              "    border-color: transparent;\n",
              "    border-bottom-color: var(--fill-color);\n",
              "    animation:\n",
              "      spin 1s steps(1) infinite;\n",
              "  }\n",
              "\n",
              "  @keyframes spin {\n",
              "    0% {\n",
              "      border-color: transparent;\n",
              "      border-bottom-color: var(--fill-color);\n",
              "      border-left-color: var(--fill-color);\n",
              "    }\n",
              "    20% {\n",
              "      border-color: transparent;\n",
              "      border-left-color: var(--fill-color);\n",
              "      border-top-color: var(--fill-color);\n",
              "    }\n",
              "    30% {\n",
              "      border-color: transparent;\n",
              "      border-left-color: var(--fill-color);\n",
              "      border-top-color: var(--fill-color);\n",
              "      border-right-color: var(--fill-color);\n",
              "    }\n",
              "    40% {\n",
              "      border-color: transparent;\n",
              "      border-right-color: var(--fill-color);\n",
              "      border-top-color: var(--fill-color);\n",
              "    }\n",
              "    60% {\n",
              "      border-color: transparent;\n",
              "      border-right-color: var(--fill-color);\n",
              "    }\n",
              "    80% {\n",
              "      border-color: transparent;\n",
              "      border-right-color: var(--fill-color);\n",
              "      border-bottom-color: var(--fill-color);\n",
              "    }\n",
              "    90% {\n",
              "      border-color: transparent;\n",
              "      border-bottom-color: var(--fill-color);\n",
              "    }\n",
              "  }\n",
              "</style>\n",
              "\n",
              "  <script>\n",
              "    async function quickchart(key) {\n",
              "      const quickchartButtonEl =\n",
              "        document.querySelector('#' + key + ' button');\n",
              "      quickchartButtonEl.disabled = true;  // To prevent multiple clicks.\n",
              "      quickchartButtonEl.classList.add('colab-df-spinner');\n",
              "      try {\n",
              "        const charts = await google.colab.kernel.invokeFunction(\n",
              "            'suggestCharts', [key], {});\n",
              "      } catch (error) {\n",
              "        console.error('Error during call to suggestCharts:', error);\n",
              "      }\n",
              "      quickchartButtonEl.classList.remove('colab-df-spinner');\n",
              "      quickchartButtonEl.classList.add('colab-df-quickchart-complete');\n",
              "    }\n",
              "    (() => {\n",
              "      let quickchartButtonEl =\n",
              "        document.querySelector('#df-0d69ae3f-5fb0-4b52-89cc-91f12cf9bf99 button');\n",
              "      quickchartButtonEl.style.display =\n",
              "        google.colab.kernel.accessAllowed ? 'block' : 'none';\n",
              "    })();\n",
              "  </script>\n",
              "</div>\n",
              "\n",
              "    </div>\n",
              "  </div>\n"
            ],
            "application/vnd.google.colaboratory.intrinsic+json": {
              "type": "dataframe",
              "variable_name": "df_csv",
              "summary": "{\n  \"name\": \"df_csv\",\n  \"rows\": 732,\n  \"fields\": [\n    {\n      \"column\": \"Gender\",\n      \"properties\": {\n        \"dtype\": \"category\",\n        \"num_unique_values\": 2,\n        \"samples\": [\n          \"Male\",\n          \"Female\"\n        ],\n        \"semantic_type\": \"\",\n        \"description\": \"\"\n      }\n    },\n    {\n      \"column\": \"Preference\",\n      \"properties\": {\n        \"dtype\": \"category\",\n        \"num_unique_values\": 3,\n        \"samples\": [\n          \"Business\",\n          \"Programming\"\n        ],\n        \"semantic_type\": \"\",\n        \"description\": \"\"\n      }\n    }\n  ]\n}"
            }
          },
          "metadata": {},
          "execution_count": 61
        }
      ]
    },
    {
      "cell_type": "markdown",
      "source": [
        "## Questions"
      ],
      "metadata": {
        "id": "Gdh3BJr3Xr0f"
      }
    },
    {
      "cell_type": "markdown",
      "source": [
        "### Question 1"
      ],
      "metadata": {
        "id": "q8o7ZLPrCX5Z"
      }
    },
    {
      "cell_type": "markdown",
      "source": [
        "Based on the given sample data, the column “obs” can be assumed to have a __"
      ],
      "metadata": {
        "id": "_V5jtMt7zHW-"
      }
    },
    {
      "cell_type": "code",
      "source": [
        "obs_values = df_excel['obs']\n",
        "is_discrete = all(obs_values == obs_values.astype(int))\n",
        "if is_discrete:\n",
        "    print(\"The 'obs' values are discrete.\")\n",
        "else:\n",
        "    print(\"The 'obs' values are continuous.\")"
      ],
      "metadata": {
        "colab": {
          "base_uri": "https://localhost:8080/"
        },
        "id": "jCvd0dHlCDsf",
        "outputId": "73491929-c2ab-419e-c532-199dedea53ba"
      },
      "execution_count": 62,
      "outputs": [
        {
          "output_type": "stream",
          "name": "stdout",
          "text": [
            "The 'obs' values are discrete.\n"
          ]
        }
      ]
    },
    {
      "cell_type": "markdown",
      "source": [
        "### Question 2"
      ],
      "metadata": {
        "id": "zlk_gUisCpRb"
      }
    },
    {
      "cell_type": "markdown",
      "source": [
        "\n",
        "Given the sample data, the expected number of scratches on a car produced on the assembly line iS _____"
      ],
      "metadata": {
        "id": "nkjY7FEVzJQM"
      }
    },
    {
      "cell_type": "code",
      "source": [
        "expected_scratches = obs_values.mean()\n",
        "print(f\"The expected number of scratches on a car produced on the assembly line is {expected_scratches:.3f}.\")"
      ],
      "metadata": {
        "colab": {
          "base_uri": "https://localhost:8080/"
        },
        "id": "BQkcieutCniu",
        "outputId": "eafa9cef-41d6-4c69-e4a7-b641074f058c"
      },
      "execution_count": 63,
      "outputs": [
        {
          "output_type": "stream",
          "name": "stdout",
          "text": [
            "The expected number of scratches on a car produced on the assembly line is 3.842.\n"
          ]
        }
      ]
    },
    {
      "cell_type": "markdown",
      "source": [
        "### Question 3"
      ],
      "metadata": {
        "id": "gKKfRFwRMvun"
      }
    },
    {
      "cell_type": "markdown",
      "source": [
        "Based on the descriptive statistics (and visualization) of the sample data, the total scratch can be assumed to have a ___"
      ],
      "metadata": {
        "id": "F2iq6RrZzLnu"
      }
    },
    {
      "cell_type": "code",
      "source": [
        "mean_val = obs_values.mean()\n",
        "median_val = obs_values.median()\n",
        "mode_val = obs_values.mode()[0]\n",
        "\n",
        "print(f\"Mean: {mean_val}\")\n",
        "print(f\"Median: {median_val}\")\n",
        "print(f\"Mode: {mode_val}\")\n",
        "\n",
        "if mean_val > median_val > mode_val:\n",
        "    skewness = \"Right skewed distribution as the mean > median > mode\"\n",
        "elif mode_val > median_val > mean_val:\n",
        "    skewness = \"Left skewed distribution as the mode > median > mean\"\n",
        "elif mode_val > mean_val > median_val:\n",
        "    skewness = \"Right skewed distribution as the mode > mean > median\"\n",
        "elif mean_val > mode_val > median_val:\n",
        "    skewness = \"Left skewed distribution as the mean > mode > median\"\n",
        "elif mean_val < median_val < mode_val:\n",
        "    skewness = \"Left skewed distribution as the mean < median < mode\"\n",
        "elif mode_val < median_val < mean_val:\n",
        "    skewness = \"Right skewed distribution as the mode < median < mean\"\n",
        "else:\n",
        "    skewness = \"None of the above\"\n",
        "\n",
        "print(skewness)\n",
        "\n",
        "\n",
        "plt.figure(figsize=(10, 6))\n",
        "sns.histplot(obs_values, kde=True)\n",
        "plt.axvline(mean_val, color='r', linestyle='--', label=f'Mean: {mean_val:.3f}')\n",
        "plt.axvline(median_val, color='g', linestyle='-', label=f'Median: {median_val:.3f}')\n",
        "plt.axvline(mode_val, color='b', linestyle='-', label=f'Mode: {mode_val:.3f}')\n",
        "plt.legend()\n",
        "plt.title('Distribution of Observed Scratches')\n",
        "plt.xlabel('Number of Scratches')\n",
        "plt.ylabel('Frequency')\n",
        "plt.show()\n"
      ],
      "metadata": {
        "colab": {
          "base_uri": "https://localhost:8080/",
          "height": 629
        },
        "id": "L4qWz9M1MuNr",
        "outputId": "7ba44241-c544-4e9c-d3f7-97f045020cb2"
      },
      "execution_count": 64,
      "outputs": [
        {
          "output_type": "stream",
          "name": "stdout",
          "text": [
            "Mean: 3.841666666666667\n",
            "Median: 3.0\n",
            "Mode: 3\n",
            "None of the above\n"
          ]
        },
        {
          "output_type": "display_data",
          "data": {
            "text/plain": [
              "<Figure size 1000x600 with 1 Axes>"
            ],
            "image/png": "[encoded data removed]"
          },
          "metadata": {}
        }
      ]
    },
    {
      "cell_type": "markdown",
      "source": [
        "### Question 4"
      ],
      "metadata": {
        "id": "d9jBiiH2NOQs"
      }
    },
    {
      "cell_type": "markdown",
      "source": [
        "If you perform a chi-square goodness of fit test for the “obs” column, what is the probability of observing exactly 3 defects?\n",
        "\n",
        "Hint-1: Use the descriptive statistics to identify a possible distribution\n",
        "\n",
        "Hint-2: Determine the chi-square test statistic without adding any new bins. Modifying\n",
        "an existing bin is allowed\n"
      ],
      "metadata": {
        "id": "Q5VloCoVzQNW"
      }
    },
    {
      "cell_type": "code",
      "source": [
        "lambda_poisson = obs_values.mean()\n",
        "observed_freq = obs_values.value_counts().sort_index()\n",
        "total_count = len(obs_values)\n",
        "expected_freq = [poisson.pmf(k, lambda_poisson) * total_count for k in observed_freq.index]\n",
        "expected_freq = np.array(expected_freq)\n",
        "expected_freq = expected_freq * (observed_freq.sum() / expected_freq.sum())\n",
        "chi_square_stat, p_value = chisquare(f_obs=observed_freq, f_exp=expected_freq)\n",
        "prob_3_defects = poisson.pmf(3, lambda_poisson)\n",
        "\n",
        "# print(f\"Mean (lambda) of the 'obs' column: {lambda_poisson}\")\n",
        "# print(f\"Observed frequencies:\\n{observed_freq}\")\n",
        "# print(f\"Expected frequencies:\\n{np.round(expected_freq, 2)}\")\n",
        "# print(f\"Chi-square statistic: {chi_square_stat:.2f}\")\n",
        "# print(f\"P-value: {p_value:.2f}\")\n",
        "print(f\"Probability of observing exactly 3 defects: {prob_3_defects:.4f}\")"
      ],
      "metadata": {
        "colab": {
          "base_uri": "https://localhost:8080/"
        },
        "id": "KhCEL4U1NIjQ",
        "outputId": "959fd6b0-9382-447d-f56c-c4337246c9fd"
      },
      "execution_count": 65,
      "outputs": [
        {
          "output_type": "stream",
          "name": "stdout",
          "text": [
            "Probability of observing exactly 3 defects: 0.2028\n"
          ]
        }
      ]
    },
    {
      "cell_type": "markdown",
      "source": [
        "### Question 5"
      ],
      "metadata": {
        "id": "D48UBTT7OUKO"
      }
    },
    {
      "cell_type": "markdown",
      "source": [
        "If you perform a chi-square goodness of fit test for the “obs” column, what is the value of the computed test statistic?\n",
        "\n",
        " Hint-1: Use the descriptive statistics to identify a possible distribution\n",
        "\n",
        " Hint-2: Determine the chi-square test statistic without adding any new bins. Modifying an existing bin is allowed"
      ],
      "metadata": {
        "id": "OxWSfySmzUFk"
      }
    },
    {
      "cell_type": "code",
      "source": [
        "print(f\"Chi-square statistic: {chi_square_stat:.3f}\")"
      ],
      "metadata": {
        "colab": {
          "base_uri": "https://localhost:8080/"
        },
        "id": "mTriY-6BNw9y",
        "outputId": "231dc065-a29c-4fcb-f2cb-c5f1564dc132"
      },
      "execution_count": 66,
      "outputs": [
        {
          "output_type": "stream",
          "name": "stdout",
          "text": [
            "Chi-square statistic: 26.028\n"
          ]
        }
      ]
    },
    {
      "cell_type": "markdown",
      "source": [
        "### Question 6"
      ],
      "metadata": {
        "id": "1Ge-HxpMOjmr"
      }
    },
    {
      "cell_type": "markdown",
      "source": [
        "f you perform a chi-square goodness of fit test for the “obs” column, what is the p-value for the test?\n",
        "\n",
        "Hint-1: Use the descriptive statistics to identify a possible distribution\n",
        "\n",
        "Hint-2: Determine the chi-square test statistic without adding any new bins. Modifying an existing bin is allowed\n",
        "\n",
        " Hint-3: Assume suitable ddof for the distribution"
      ],
      "metadata": {
        "id": "fzDJo1qhzXHW"
      }
    },
    {
      "cell_type": "code",
      "source": [
        "print(f\"P-value: {p_value:.3f}\")"
      ],
      "metadata": {
        "colab": {
          "base_uri": "https://localhost:8080/"
        },
        "id": "RHuvLqxpOjTf",
        "outputId": "001f39a8-8809-4eac-ac54-6f691d0b80ce"
      },
      "execution_count": 67,
      "outputs": [
        {
          "output_type": "stream",
          "name": "stdout",
          "text": [
            "P-value: 0.002\n"
          ]
        }
      ]
    },
    {
      "cell_type": "markdown",
      "source": [
        "### Question 7"
      ],
      "metadata": {
        "id": "MLIz2oPzPjsu"
      }
    },
    {
      "cell_type": "markdown",
      "source": [
        "How many degrees of freedom are present in the chi-square goodness of test to determine the distribution for the “Number of Scratches” column?"
      ],
      "metadata": {
        "id": "W4IUXxlEzdvN"
      }
    },
    {
      "cell_type": "code",
      "source": [
        "num_categories = obs_values.nunique()\n",
        "num_parameters = 1\n",
        "ddof = num_categories - num_parameters - 1\n",
        "\n",
        "# print(f\"Number of categories: {num_categories}\")\n",
        "print(f\"Degrees of freedom: {ddof}\")"
      ],
      "metadata": {
        "colab": {
          "base_uri": "https://localhost:8080/"
        },
        "id": "RGqQ1Rf2O_Qa",
        "outputId": "6cb2a050-15f0-443f-853e-b419fe2068d8"
      },
      "execution_count": 68,
      "outputs": [
        {
          "output_type": "stream",
          "name": "stdout",
          "text": [
            "Degrees of freedom: 8\n"
          ]
        }
      ]
    },
    {
      "cell_type": "markdown",
      "source": [
        "### Question 8"
      ],
      "metadata": {
        "id": "OPL_d7v5Pw7J"
      }
    },
    {
      "cell_type": "markdown",
      "source": [
        "Use the data (iitm_onlineDegree.csv) for analysing the following case. The data of the preferred subject of choice was collected from IITM online degree students between Male and Female students. Using the data provided, answer the following questions:\n",
        "\n",
        "\n",
        "What is the degree of freedom?"
      ],
      "metadata": {
        "id": "0VIy2flszgJ9"
      }
    },
    {
      "cell_type": "code",
      "source": [
        "# print(df_csv.head())\n",
        "# print(df_csv.columns)"
      ],
      "metadata": {
        "id": "kB_B2ni8Qql0"
      },
      "execution_count": 69,
      "outputs": []
    },
    {
      "cell_type": "code",
      "source": [
        "contingency_table = pd.crosstab(df_csv['Gender'], df_csv['Preference'])\n",
        "num_rows = contingency_table.shape[0]\n",
        "num_columns = contingency_table.shape[1]\n",
        "ddof = (num_rows - 1) * (num_columns - 1)\n",
        "\n",
        "# print(f\"Number of rows: {num_rows}\")\n",
        "# print(f\"Number of columns: {num_columns}\")\n",
        "print(f\"Degrees of freedom: {ddof}\")"
      ],
      "metadata": {
        "colab": {
          "base_uri": "https://localhost:8080/"
        },
        "id": "IuscTAB7Ptvf",
        "outputId": "1770b30a-2f40-4815-cd94-ff0ad7c81235"
      },
      "execution_count": 70,
      "outputs": [
        {
          "output_type": "stream",
          "name": "stdout",
          "text": [
            "Degrees of freedom: 2\n"
          ]
        }
      ]
    },
    {
      "cell_type": "markdown",
      "source": [
        "### Question 9"
      ],
      "metadata": {
        "id": "Jp--QsfRRrJX"
      }
    },
    {
      "cell_type": "markdown",
      "source": [
        "What is the expected value of Female in Business subjects?"
      ],
      "metadata": {
        "id": "Jr3xuycOzjVx"
      }
    },
    {
      "cell_type": "code",
      "source": [
        "print(\"Contingency Table:\\n\", contingency_table)"
      ],
      "metadata": {
        "colab": {
          "base_uri": "https://localhost:8080/"
        },
        "id": "cXq381cbRR01",
        "outputId": "2a3c1097-90e6-4757-b849-dd4363cff1d8"
      },
      "execution_count": 71,
      "outputs": [
        {
          "output_type": "stream",
          "name": "stdout",
          "text": [
            "Contingency Table:\n",
            " Preference  Business  Programming  Statistics\n",
            "Gender                                       \n",
            "Female           175           58         200\n",
            "Male             139           36         124\n"
          ]
        }
      ]
    },
    {
      "cell_type": "code",
      "source": [
        "row_totals = contingency_table.sum(axis=1)\n",
        "column_totals = contingency_table.sum(axis=0)\n",
        "grand_total = contingency_table.values.sum()\n",
        "count_female_business = contingency_table.loc['Female', 'Business']\n",
        "expected_freq_female_business = (row_totals['Female'] * column_totals['Business']) / grand_total\n",
        "\n",
        "# print(f\"Count of Female students in Business subjects: {count_female_business}\")\n",
        "print(f\"Expected frequency of Female students in Business subjects: {expected_freq_female_business:.3f}\")"
      ],
      "metadata": {
        "colab": {
          "base_uri": "https://localhost:8080/"
        },
        "id": "9k2iEiskSVEn",
        "outputId": "fadc632e-a2c4-407b-f72a-885103cada72"
      },
      "execution_count": 72,
      "outputs": [
        {
          "output_type": "stream",
          "name": "stdout",
          "text": [
            "Expected frequency of Female students in Business subjects: 185.740\n"
          ]
        }
      ]
    },
    {
      "cell_type": "markdown",
      "source": [
        "### Question 10"
      ],
      "metadata": {
        "id": "sEbmg68gS56D"
      }
    },
    {
      "cell_type": "markdown",
      "source": [
        "\n",
        "What is the calculated value of Chi square statistic?\n",
        "Hint: round-off to two decimals"
      ],
      "metadata": {
        "id": "gojbqr3K0S_c"
      }
    },
    {
      "cell_type": "code",
      "source": [
        "# Perform the chi-square test\n",
        "chi2_stat, p_value, dof, expected_freq = chi2_contingency(contingency_table, correction=False)\n",
        "\n",
        "# Print results\n",
        "# print(\"Contingency Table:\\n\", contingency_table)\n",
        "print(f\"Chi-square Statistic: {chi2_stat:.3f}\")\n",
        "# print(f\"P-value: {p_value:.4f}\")\n",
        "# print(f\"Degrees of Freedom: {dof}\")\n",
        "# print(f\"Expected Frequencies:\\n{expected_freq}\")"
      ],
      "metadata": {
        "colab": {
          "base_uri": "https://localhost:8080/"
        },
        "id": "zTUShMg2ScG2",
        "outputId": "18b7aa31-ef50-45ee-913a-c57fb9383a65"
      },
      "execution_count": 73,
      "outputs": [
        {
          "output_type": "stream",
          "name": "stdout",
          "text": [
            "Chi-square Statistic: 2.663\n"
          ]
        }
      ]
    },
    {
      "cell_type": "markdown",
      "source": [
        "### Question 11"
      ],
      "metadata": {
        "id": "FbFTawr-TMki"
      }
    },
    {
      "cell_type": "markdown",
      "source": [
        "What is the tabulated value of Chi square statistic?\n",
        "Hint: round-off to two decimals"
      ],
      "metadata": {
        "id": "iKaT7UIO0U8G"
      }
    },
    {
      "cell_type": "code",
      "source": [
        "ddof = 2\n",
        "alpha = 0.05\n",
        "tabulated_value = stats.chi2.ppf(1 - alpha, df=ddof)\n",
        "\n",
        "# print(f\"Degrees of Freedom: {ddof}\")\n",
        "# print(f\"Significance Level: {alpha}\")\n",
        "print(f\"Tabulated Chi-square Value: {tabulated_value:.3f}\")"
      ],
      "metadata": {
        "colab": {
          "base_uri": "https://localhost:8080/"
        },
        "id": "0sxDq8ZWS7vp",
        "outputId": "169dc81f-7610-4545-ecc0-84aa636f2866"
      },
      "execution_count": 74,
      "outputs": [
        {
          "output_type": "stream",
          "name": "stdout",
          "text": [
            "Tabulated Chi-square Value: 5.991\n"
          ]
        }
      ]
    },
    {
      "cell_type": "markdown",
      "source": [
        "### Question 12"
      ],
      "metadata": {
        "id": "kdXk51pEVBJK"
      }
    },
    {
      "cell_type": "markdown",
      "source": [
        "What is the p-value?"
      ],
      "metadata": {
        "id": "NZ0_5BDv0W02"
      }
    },
    {
      "cell_type": "code",
      "source": [
        "print(f\"P-value: {p_value:.4f}\")"
      ],
      "metadata": {
        "id": "mNmJvFk1TVME",
        "colab": {
          "base_uri": "https://localhost:8080/"
        },
        "outputId": "2cb28515-e435-464b-f4b2-5976c61f0387"
      },
      "execution_count": 75,
      "outputs": [
        {
          "output_type": "stream",
          "name": "stdout",
          "text": [
            "P-value: 0.2641\n"
          ]
        }
      ]
    },
    {
      "cell_type": "markdown",
      "source": [
        "### Question 13"
      ],
      "metadata": {
        "id": "Ha-3fnQ_W5co"
      }
    },
    {
      "cell_type": "markdown",
      "source": [
        "At a significance level of 0.05, what can we conclude?\n",
        "\n",
        "[A] Reject the null hypothesis and conclude that the categorical variables are independent\n",
        "\n",
        "[B] Reject the null hypothesis and conclude that the categorical variables are not independent\n",
        "\n",
        "[C] Fail to reject the null hypothesis and conclude that the categorical variables are independent\n",
        "\n",
        "[D] Fail to reject the null hypothesis and conclude that the categorical variables are not independent"
      ],
      "metadata": {
        "id": "0mjcaDdl0ZLg"
      }
    },
    {
      "cell_type": "code",
      "source": [
        "tabulated_value = stats.chi2.ppf(1 - alpha, df=ddof)\n",
        "print(f\"Chi-square Statistic: {chi2_stat:.2f}\")\n",
        "print(f\"Tabulated Chi-square Value: {tabulated_value:.2f}\")\n",
        "\n",
        "if chi2_stat > tabulated_value:\n",
        "    print(\"Reject the null hypothesis and conclude that the categorical variables are not independent.\")\n",
        "else:\n",
        "    print(\"Fail to reject the null hypothesis and conclude that the categorical variables are independent.\")"
      ],
      "metadata": {
        "colab": {
          "base_uri": "https://localhost:8080/"
        },
        "id": "h7sjOwA_VkmX",
        "outputId": "f4d9b26f-584e-48a0-a1ec-d07dabee37b4"
      },
      "execution_count": 76,
      "outputs": [
        {
          "output_type": "stream",
          "name": "stdout",
          "text": [
            "Chi-square Statistic: 2.66\n",
            "Tabulated Chi-square Value: 5.99\n",
            "Fail to reject the null hypothesis and conclude that the categorical variables are independent.\n"
          ]
        }
      ]
    },
    {
      "cell_type": "markdown",
      "source": [
        "# Assigment 2"
      ],
      "metadata": {
        "id": "DVU4u3r6YL8T"
      }
    },
    {
      "cell_type": "markdown",
      "source": [
        "## Import Files and Load data\n"
      ],
      "metadata": {
        "id": "oirMy8M6YQue"
      }
    },
    {
      "cell_type": "code",
      "source": [
        "import pandas as pd\n",
        "from sklearn.model_selection import train_test_split\n",
        "from sklearn.linear_model import LinearRegression\n",
        "import statsmodels.formula.api as smf\n",
        "from sklearn.metrics import mean_squared_error, r2_score"
      ],
      "metadata": {
        "id": "_IaEMkMXao33"
      },
      "execution_count": 77,
      "outputs": []
    },
    {
      "cell_type": "code",
      "source": [
        "data_transform = pd.read_excel('data_transform.xlsx')"
      ],
      "metadata": {
        "id": "E9-HNypkatva"
      },
      "execution_count": 78,
      "outputs": []
    },
    {
      "cell_type": "code",
      "source": [
        "model = smf.ols('Sales ~ Price', data=data_transform).fit()\n",
        "print(model.summary())"
      ],
      "metadata": {
        "colab": {
          "base_uri": "https://localhost:8080/"
        },
        "id": "cQSGEZZCa2ts",
        "outputId": "2acde0f9-c366-400e-a7ad-d8dd80d4319e"
      },
      "execution_count": 79,
      "outputs": [
        {
          "output_type": "stream",
          "name": "stdout",
          "text": [
            "                            OLS Regression Results                            \n",
            "==============================================================================\n",
            "Dep. Variable:                  Sales   R-squared:                       0.526\n",
            "Model:                            OLS   Adj. R-squared:                  0.516\n",
            "Method:                 Least Squares   F-statistic:                     53.34\n",
            "Date:                Mon, 19 Aug 2024   Prob (F-statistic):           2.52e-09\n",
            "Time:                        13:33:21   Log-Likelihood:                -219.72\n",
            "No. Observations:                  50   AIC:                             443.4\n",
            "Df Residuals:                      48   BIC:                             447.3\n",
            "Df Model:                           1                                         \n",
            "Covariance Type:            nonrobust                                         \n",
            "==============================================================================\n",
            "                 coef    std err          t      P>|t|      [0.025      0.975]\n",
            "------------------------------------------------------------------------------\n",
            "Intercept     79.9927      7.209     11.095      0.000      65.497      94.488\n",
            "Price        -21.2052      2.903     -7.304      0.000     -27.043     -15.368\n",
            "==============================================================================\n",
            "Omnibus:                       35.987   Durbin-Watson:                   2.229\n",
            "Prob(Omnibus):                  0.000   Jarque-Bera (JB):              104.127\n",
            "Skew:                           1.955   Prob(JB):                     2.45e-23\n",
            "Kurtosis:                       8.890   Cond. No.                         7.22\n",
            "==============================================================================\n",
            "\n",
            "Notes:\n",
            "[1] Standard Errors assume that the covariance matrix of the errors is correctly specified.\n"
          ]
        }
      ]
    },
    {
      "cell_type": "markdown",
      "source": [
        "## Questions"
      ],
      "metadata": {
        "id": "CfSpnVsYYUOL"
      }
    },
    {
      "cell_type": "markdown",
      "source": [
        "1) Instructions to be followed:\n",
        "\n",
        "a. Use only google collab for modelling\n",
        "\n",
        "b. Do not do any feature engineering on the datasets provided\n",
        "\n",
        "c. Use the hints provided\n",
        "\n",
        "Using the dataset data_transform.xlsx analyze the sales at retail outlets for different prices. Fit a\n",
        "Simple Linear regression model to this dataset using the concept of the Demand Response Curve and\n",
        "answer questions (1) to (4).\n",
        "Hint: smf.ols from statsmodels.formula.api"
      ],
      "metadata": {
        "id": "jODD1H4nwZLC"
      }
    },
    {
      "cell_type": "markdown",
      "source": [
        "### Question 1"
      ],
      "metadata": {
        "id": "1VcDOn-JbV1k"
      }
    },
    {
      "cell_type": "markdown",
      "source": [
        "What is the r-square value (round off to two decimals)"
      ],
      "metadata": {
        "id": "_DWTsFf3wWyx"
      }
    },
    {
      "cell_type": "code",
      "source": [
        "print('The R-squared value from your model summary is 0.526')"
      ],
      "metadata": {
        "id": "232LlsfoYN_7",
        "colab": {
          "base_uri": "https://localhost:8080/"
        },
        "outputId": "32773674-a6a0-4fe9-a57c-0a5766649df0"
      },
      "execution_count": 80,
      "outputs": [
        {
          "output_type": "stream",
          "name": "stdout",
          "text": [
            "The R-squared value from your model summary is 0.526\n"
          ]
        }
      ]
    },
    {
      "cell_type": "markdown",
      "source": [
        "### Question 2"
      ],
      "metadata": {
        "id": "tRgX6Y5ibfkd"
      }
    },
    {
      "cell_type": "markdown",
      "source": [
        "\n",
        "Is the model significant?"
      ],
      "metadata": {
        "id": "FBU7s480whXk"
      }
    },
    {
      "cell_type": "code",
      "source": [
        "print('Yes')"
      ],
      "metadata": {
        "colab": {
          "base_uri": "https://localhost:8080/"
        },
        "id": "qeXf11r5cUJK",
        "outputId": "ea12ea7c-54ec-45ad-942a-85244d35418f"
      },
      "execution_count": 81,
      "outputs": [
        {
          "output_type": "stream",
          "name": "stdout",
          "text": [
            "Yes\n"
          ]
        }
      ]
    },
    {
      "cell_type": "markdown",
      "source": [
        "#### Why"
      ],
      "metadata": {
        "id": "Z6N1TqESbsGQ"
      }
    },
    {
      "cell_type": "markdown",
      "source": [
        "Yes, the model is significant. Here’s why:\n",
        "\n",
        "1. **F-statistic and p-value**: The F-statistic for the model is 53.34, and the associated p-value is \\(2.52 \\times 10^{-9}\\). This p-value is extremely small (well below the conventional alpha level of 0.05), indicating that the model as a whole is statistically significant. This suggests that the predictor variable (`Price`) has a significant impact on the dependent variable (`Sales`).\n",
        "\n",
        "2. **t-values and p-values for coefficients**: The coefficients for both the `Intercept` (t-value of 11.095, p-value = 0.000) and `Price` (t-value of -7.304, p-value = 0.000) are statistically significant. The p-values are well below 0.05, indicating that these coefficients are significantly different from zero.\n",
        "\n",
        "In summary, the very low p-values associated with both the overall model and the individual coefficients suggest that the model is statistically significant and that the predictor variable (`Price`) significantly affects the outcome (`Sales`)."
      ],
      "metadata": {
        "id": "lA10_bJVbxNj"
      }
    },
    {
      "cell_type": "markdown",
      "source": [
        "### Question 3"
      ],
      "metadata": {
        "id": "U5Vgi6qtb0lI"
      }
    },
    {
      "cell_type": "markdown",
      "source": [
        "\n",
        "What is the value of the intercept?"
      ],
      "metadata": {
        "id": "rJ8Z8bCRwmPQ"
      }
    },
    {
      "cell_type": "code",
      "source": [
        "print('The value of the intercept from your model summary is 79.9927')"
      ],
      "metadata": {
        "colab": {
          "base_uri": "https://localhost:8080/"
        },
        "id": "5SbDcciKcPV4",
        "outputId": "f0d8eaf3-aa44-46e8-8c05-6ca8fce29c92"
      },
      "execution_count": 82,
      "outputs": [
        {
          "output_type": "stream",
          "name": "stdout",
          "text": [
            "The value of the intercept from your model summary is 79.9927\n"
          ]
        }
      ]
    },
    {
      "cell_type": "markdown",
      "source": [
        "### Question 4"
      ],
      "metadata": {
        "id": "p3kY1czmbzzb"
      }
    },
    {
      "cell_type": "markdown",
      "source": [
        "\n",
        "What is the value of the slope?"
      ],
      "metadata": {
        "id": "eK68xYRYwoh-"
      }
    },
    {
      "cell_type": "code",
      "source": [
        "print('The value of the slope (coefficient for Price) from your model summary is -21.2052.')"
      ],
      "metadata": {
        "colab": {
          "base_uri": "https://localhost:8080/"
        },
        "id": "Xm0vvEhKcZcO",
        "outputId": "da6f273e-2e03-4f4a-c30e-5144430062f2"
      },
      "execution_count": 83,
      "outputs": [
        {
          "output_type": "stream",
          "name": "stdout",
          "text": [
            "The value of the slope (coefficient for Price) from your model summary is -21.2052.\n"
          ]
        }
      ]
    },
    {
      "cell_type": "markdown",
      "source": [
        "### Question 5"
      ],
      "metadata": {
        "id": "pHLMTl1pciWw"
      }
    },
    {
      "cell_type": "markdown",
      "source": [
        "Use natural log transformation and refit the model using the transformed dataset answer questions (5) to (8)\n",
        "Hint: Use np.log"
      ],
      "metadata": {
        "id": "NXFZ7K7Xwr0W"
      }
    },
    {
      "cell_type": "code",
      "source": [],
      "metadata": {
        "id": "XqohXkYoYTSr"
      },
      "execution_count": 83,
      "outputs": []
    },
    {
      "cell_type": "markdown",
      "source": [
        "\n",
        "What is the value of R-square on the transformed dataset"
      ],
      "metadata": {
        "id": "BGsY3VoQw0dm"
      }
    },
    {
      "cell_type": "code",
      "source": [
        "data_transform['log_Sales'] = np.log(data_transform['Sales'])\n",
        "data_transform['log_Price'] = np.log(data_transform['Price'])\n",
        "model_log = smf.ols('log_Sales ~ log_Price', data=data_transform).fit()\n",
        "print(model_log.summary())"
      ],
      "metadata": {
        "colab": {
          "base_uri": "https://localhost:8080/"
        },
        "id": "1CKEbkgCcgAV",
        "outputId": "9b89953e-4188-4f33-c681-577feaa7b4fe"
      },
      "execution_count": 84,
      "outputs": [
        {
          "output_type": "stream",
          "name": "stdout",
          "text": [
            "                            OLS Regression Results                            \n",
            "==============================================================================\n",
            "Dep. Variable:              log_Sales   R-squared:                       0.760\n",
            "Model:                            OLS   Adj. R-squared:                  0.755\n",
            "Method:                 Least Squares   F-statistic:                     152.0\n",
            "Date:                Mon, 19 Aug 2024   Prob (F-statistic):           1.74e-16\n",
            "Time:                        13:33:21   Log-Likelihood:                -22.079\n",
            "No. Observations:                  50   AIC:                             48.16\n",
            "Df Residuals:                      48   BIC:                             51.98\n",
            "Df Model:                           1                                         \n",
            "Covariance Type:            nonrobust                                         \n",
            "==============================================================================\n",
            "                 coef    std err          t      P>|t|      [0.025      0.975]\n",
            "------------------------------------------------------------------------------\n",
            "Intercept      4.1333      0.097     42.560      0.000       3.938       4.329\n",
            "log_Price     -1.3814      0.112    -12.329      0.000      -1.607      -1.156\n",
            "==============================================================================\n",
            "Omnibus:                        4.492   Durbin-Watson:                   1.989\n",
            "Prob(Omnibus):                  0.106   Jarque-Bera (JB):                2.018\n",
            "Skew:                           0.127   Prob(JB):                        0.365\n",
            "Kurtosis:                       2.049   Cond. No.                         3.31\n",
            "==============================================================================\n",
            "\n",
            "Notes:\n",
            "[1] Standard Errors assume that the covariance matrix of the errors is correctly specified.\n"
          ]
        }
      ]
    },
    {
      "cell_type": "code",
      "source": [
        "print('The value of R2 on the transformed dataset is 0.752')"
      ],
      "metadata": {
        "colab": {
          "base_uri": "https://localhost:8080/"
        },
        "id": "Qadv4C7gcyj3",
        "outputId": "42bae89a-fe03-41b2-e7b2-6c881590b721"
      },
      "execution_count": 85,
      "outputs": [
        {
          "output_type": "stream",
          "name": "stdout",
          "text": [
            "The value of R2 on the transformed dataset is 0.752\n"
          ]
        }
      ]
    },
    {
      "cell_type": "markdown",
      "source": [
        "### Question 6"
      ],
      "metadata": {
        "id": "nTy1eHCHdepg"
      }
    },
    {
      "cell_type": "markdown",
      "source": [
        "Is the model significant?"
      ],
      "metadata": {
        "id": "Wu0EdXHQxBWw"
      }
    },
    {
      "cell_type": "code",
      "source": [
        "print('Yes')"
      ],
      "metadata": {
        "colab": {
          "base_uri": "https://localhost:8080/"
        },
        "id": "67eRAfiDddd9",
        "outputId": "fd70288e-9719-4bfe-f8ad-1e96e6fdbac4"
      },
      "execution_count": 86,
      "outputs": [
        {
          "output_type": "stream",
          "name": "stdout",
          "text": [
            "Yes\n"
          ]
        }
      ]
    },
    {
      "cell_type": "markdown",
      "source": [
        "#### Why?"
      ],
      "metadata": {
        "id": "vaNoKc7GdoJK"
      }
    },
    {
      "cell_type": "markdown",
      "source": [
        "Yes, the model is significant. Here’s why:\n",
        "\n",
        "1. **F-statistic and p-value**:\n",
        "   - The F-statistic for the model is 145.6, and the associated p-value is \\(3.84 \\times 10^{-16}\\). This very small p-value indicates that the overall model is statistically significant. It suggests that `Price` is a significant predictor of `log(Sales)`.\n",
        "\n",
        "2. **t-values and p-values for coefficients**:\n",
        "   - The intercept has a t-value of 33.417 and a p-value of 0.000, which indicates it is significantly different from zero.\n",
        "   - The coefficient for `Price` has a t-value of -12.065 and a p-value of 0.000, which indicates that the slope is significantly different from zero.\n",
        "\n",
        "The very low p-values associated with the F-statistic and the coefficients suggest that the model, as well as the predictor variable (`Price`), are statistically significant."
      ],
      "metadata": {
        "id": "qnalf_wedqAf"
      }
    },
    {
      "cell_type": "markdown",
      "source": [
        "### Question 7"
      ],
      "metadata": {
        "id": "1VAHLVTadvbN"
      }
    },
    {
      "cell_type": "markdown",
      "source": [
        "\n",
        "What is the value of the intercept?"
      ],
      "metadata": {
        "id": "da3tOuC7xEDs"
      }
    },
    {
      "cell_type": "code",
      "source": [
        "print('The value of the intercept from the log-transformed model is 4.7022')"
      ],
      "metadata": {
        "colab": {
          "base_uri": "https://localhost:8080/"
        },
        "id": "bX6KeYbjdwsH",
        "outputId": "a8ba0849-0558-4db8-c4c3-feb43d833de6"
      },
      "execution_count": 87,
      "outputs": [
        {
          "output_type": "stream",
          "name": "stdout",
          "text": [
            "The value of the intercept from the log-transformed model is 4.7022\n"
          ]
        }
      ]
    },
    {
      "cell_type": "markdown",
      "source": [
        "### Question 8"
      ],
      "metadata": {
        "id": "BFp1B4Rrd7aP"
      }
    },
    {
      "cell_type": "markdown",
      "source": [
        "What is the value of the slope?"
      ],
      "metadata": {
        "id": "JnuulS1ixGF8"
      }
    },
    {
      "cell_type": "code",
      "source": [
        "print('The value of the slope (coefficient for `Price`) from the log-transformed model is -0.6837')"
      ],
      "metadata": {
        "colab": {
          "base_uri": "https://localhost:8080/"
        },
        "id": "9ODwNy16d3ti",
        "outputId": "6fd18c06-e789-4a8a-d6b6-10f0898f8bae"
      },
      "execution_count": 88,
      "outputs": [
        {
          "output_type": "stream",
          "name": "stdout",
          "text": [
            "The value of the slope (coefficient for `Price`) from the log-transformed model is -0.6837\n"
          ]
        }
      ]
    },
    {
      "cell_type": "markdown",
      "source": [
        "### Question 9"
      ],
      "metadata": {
        "id": "CVC7mZdNeZ6k"
      }
    },
    {
      "cell_type": "markdown",
      "source": [
        "Pandya Motors, a passenger car manufacturer, wants to predict the profit for its cars based on\n",
        "the expenditure spent on areas like safety features, tech features, and marketing. Every car\n",
        "has multiple variants like the base model, middle variant, top model, automatic gearbox, etc.\n",
        "\n",
        "Based on the data provided, build a linear regression model and predict the profit. Use the\n",
        "instructions provided below.\n",
        "\n",
        "i. You are provided with two excel files: X.xlsx and y.xlsx, where X is the feature matrix,\n",
        "and y is the target variable.\n",
        "\n",
        "ii. Use only google collab for doing this assignment as we have created the scoring scheme\n",
        "based on the results obtained from Google Collab.\n",
        "\n",
        "iii. Do not do any kind of feature engineering as the data is already feature-engineered and\n",
        "ready to be used for building the regression model.\n",
        "\n",
        "iv. Use train_test_split from sklearn.model_selection and keep the test_size = 0.2,\n",
        "random_state = 0\n",
        "\n",
        "v. Next, use LinearRegression from sklearn.linear_model and build the regression model\n",
        "\n",
        "vi. As usual, fit the model on X_train and y_train\n",
        "\n",
        "vii. Then predict on X_test"
      ],
      "metadata": {
        "id": "LbsE_7d4xIj2"
      }
    },
    {
      "cell_type": "code",
      "source": [
        "X = pd.read_excel('X.xlsx')\n",
        "y = pd.read_excel('y.xlsx')"
      ],
      "metadata": {
        "id": "uS6siPsUebL5"
      },
      "execution_count": 89,
      "outputs": []
    },
    {
      "cell_type": "code",
      "source": [
        "X_train, X_test, y_train, y_test = train_test_split(X, y, test_size=0.2, random_state=0)"
      ],
      "metadata": {
        "id": "ih3XcFyMelhu"
      },
      "execution_count": 90,
      "outputs": []
    },
    {
      "cell_type": "code",
      "source": [
        "model = LinearRegression()\n",
        "model.fit(X_train, y_train)"
      ],
      "metadata": {
        "colab": {
          "base_uri": "https://localhost:8080/",
          "height": 75
        },
        "id": "RutsV1Bnew7c",
        "outputId": "8826ab89-331f-4901-d78e-2dccd59436ed"
      },
      "execution_count": 91,
      "outputs": [
        {
          "output_type": "execute_result",
          "data": {
            "text/plain": [
              "LinearRegression()"
            ],
            "text/html": [
              "<style>#sk-container-id-1 {color: black;}#sk-container-id-1 pre{padding: 0;}#sk-container-id-1 div.sk-toggleable {background-color: white;}#sk-container-id-1 label.sk-toggleable__label {cursor: pointer;display: block;width: 100%;margin-bottom: 0;padding: 0.3em;box-sizing: border-box;text-align: center;}#sk-container-id-1 label.sk-toggleable__label-arrow:before {content: \"▸\";float: left;margin-right: 0.25em;color: #696969;}#sk-container-id-1 label.sk-toggleable__label-arrow:hover:before {color: black;}#sk-container-id-1 div.sk-estimator:hover label.sk-toggleable__label-arrow:before {color: black;}#sk-container-id-1 div.sk-toggleable__content {max-height: 0;max-width: 0;overflow: hidden;text-align: left;background-color: #f0f8ff;}#sk-container-id-1 div.sk-toggleable__content pre {margin: 0.2em;color: black;border-radius: 0.25em;background-color: #f0f8ff;}#sk-container-id-1 input.sk-toggleable__control:checked~div.sk-toggleable__content {max-height: 200px;max-width: 100%;overflow: auto;}#sk-container-id-1 input.sk-toggleable__control:checked~label.sk-toggleable__label-arrow:before {content: \"▾\";}#sk-container-id-1 div.sk-estimator input.sk-toggleable__control:checked~label.sk-toggleable__label {background-color: #d4ebff;}#sk-container-id-1 div.sk-label input.sk-toggleable__control:checked~label.sk-toggleable__label {background-color: #d4ebff;}#sk-container-id-1 input.sk-hidden--visually {border: 0;clip: rect(1px 1px 1px 1px);clip: rect(1px, 1px, 1px, 1px);height: 1px;margin: -1px;overflow: hidden;padding: 0;position: absolute;width: 1px;}#sk-container-id-1 div.sk-estimator {font-family: monospace;background-color: #f0f8ff;border: 1px dotted black;border-radius: 0.25em;box-sizing: border-box;margin-bottom: 0.5em;}#sk-container-id-1 div.sk-estimator:hover {background-color: #d4ebff;}#sk-container-id-1 div.sk-parallel-item::after {content: \"\";width: 100%;border-bottom: 1px solid gray;flex-grow: 1;}#sk-container-id-1 div.sk-label:hover label.sk-toggleable__label {background-color: #d4ebff;}#sk-container-id-1 div.sk-serial::before {content: \"\";position: absolute;border-left: 1px solid gray;box-sizing: border-box;top: 0;bottom: 0;left: 50%;z-index: 0;}#sk-container-id-1 div.sk-serial {display: flex;flex-direction: column;align-items: center;background-color: white;padding-right: 0.2em;padding-left: 0.2em;position: relative;}#sk-container-id-1 div.sk-item {position: relative;z-index: 1;}#sk-container-id-1 div.sk-parallel {display: flex;align-items: stretch;justify-content: center;background-color: white;position: relative;}#sk-container-id-1 div.sk-item::before, #sk-container-id-1 div.sk-parallel-item::before {content: \"\";position: absolute;border-left: 1px solid gray;box-sizing: border-box;top: 0;bottom: 0;left: 50%;z-index: -1;}#sk-container-id-1 div.sk-parallel-item {display: flex;flex-direction: column;z-index: 1;position: relative;background-color: white;}#sk-container-id-1 div.sk-parallel-item:first-child::after {align-self: flex-end;width: 50%;}#sk-container-id-1 div.sk-parallel-item:last-child::after {align-self: flex-start;width: 50%;}#sk-container-id-1 div.sk-parallel-item:only-child::after {width: 0;}#sk-container-id-1 div.sk-dashed-wrapped {border: 1px dashed gray;margin: 0 0.4em 0.5em 0.4em;box-sizing: border-box;padding-bottom: 0.4em;background-color: white;}#sk-container-id-1 div.sk-label label {font-family: monospace;font-weight: bold;display: inline-block;line-height: 1.2em;}#sk-container-id-1 div.sk-label-container {text-align: center;}#sk-container-id-1 div.sk-container {/* jupyter's `normalize.less` sets `[hidden] { display: none; }` but bootstrap.min.css set `[hidden] { display: none !important; }` so we also need the `!important` here to be able to override the default hidden behavior on the sphinx rendered scikit-learn.org. See: https://github.com/scikit-learn/scikit-learn/issues/21755 */display: inline-block !important;position: relative;}#sk-container-id-1 div.sk-text-repr-fallback {display: none;}</style><div id=\"sk-container-id-1\" class=\"sk-top-container\"><div class=\"sk-text-repr-fallback\"><pre>LinearRegression()</pre><b>In a Jupyter environment, please rerun this cell to show the HTML representation or trust the notebook. <br />On GitHub, the HTML representation is unable to render, please try loading this page with nbviewer.org.</b></div><div class=\"sk-container\" hidden><div class=\"sk-item\"><div class=\"sk-estimator sk-toggleable\"><input class=\"sk-toggleable__control sk-hidden--visually\" id=\"sk-estimator-id-1\" type=\"checkbox\" checked><label for=\"sk-estimator-id-1\" class=\"sk-toggleable__label sk-toggleable__label-arrow\">LinearRegression</label><div class=\"sk-toggleable__content\"><pre>LinearRegression()</pre></div></div></div></div></div>"
            ]
          },
          "metadata": {},
          "execution_count": 91
        }
      ]
    },
    {
      "cell_type": "markdown",
      "source": [
        "What is the r-sqaure of the model?"
      ],
      "metadata": {
        "id": "ftMZ_1XyxSBr"
      }
    },
    {
      "cell_type": "code",
      "source": [
        "y_pred = model.predict(X_test)\n",
        "mse = mean_squared_error(y_test, y_pred)\n",
        "r2 = r2_score(y_test, y_pred)\n",
        "# print(f\"Mean Squared Error: {mse}\")\n",
        "print(f\"R-squared: {r2}\")"
      ],
      "metadata": {
        "colab": {
          "base_uri": "https://localhost:8080/"
        },
        "id": "MgpwGpYse7GY",
        "outputId": "24f5fd99-24e1-4b1b-9585-8f3927d17fef"
      },
      "execution_count": 92,
      "outputs": [
        {
          "output_type": "stream",
          "name": "stdout",
          "text": [
            "R-squared: 0.9347068473282426\n"
          ]
        }
      ]
    },
    {
      "cell_type": "markdown",
      "source": [
        "### Question 10"
      ],
      "metadata": {
        "id": "n8ggAgGnfTJ2"
      }
    },
    {
      "cell_type": "markdown",
      "source": [
        "What is the value of the intercept?"
      ],
      "metadata": {
        "id": "hLkij21yxV7j"
      }
    },
    {
      "cell_type": "code",
      "source": [
        "intercept = model.intercept_\n",
        "print(f\"Intercept: {intercept}\")"
      ],
      "metadata": {
        "colab": {
          "base_uri": "https://localhost:8080/"
        },
        "id": "bx9E4g7KfEBw",
        "outputId": "87fbd056-9aee-4e51-8a38-63683e601188"
      },
      "execution_count": 93,
      "outputs": [
        {
          "output_type": "stream",
          "name": "stdout",
          "text": [
            "Intercept: [69744.98712385]\n"
          ]
        }
      ]
    },
    {
      "cell_type": "markdown",
      "source": [
        "### Question 11"
      ],
      "metadata": {
        "id": "dJwPXYpZfWh5"
      }
    },
    {
      "cell_type": "markdown",
      "source": [
        "\n",
        "If\n",
        "X\n",
        "1\n",
        "​\n",
        "  = 1315.46,\n",
        "X\n",
        "2\n",
        "​\n",
        " = 115816.21,\n",
        "X\n",
        "3\n",
        "​\n",
        "  = 297114.46,\n",
        "X\n",
        "4\n",
        "​\n",
        "  = 1,\n",
        "X\n",
        "5 = 0, then predict the profit from your linear regression model.\n",
        ""
      ],
      "metadata": {
        "id": "eQytciRExYPd"
      }
    },
    {
      "cell_type": "code",
      "source": [
        "X.columns, y.columns"
      ],
      "metadata": {
        "colab": {
          "base_uri": "https://localhost:8080/"
        },
        "id": "HUaZzBxZgbyi",
        "outputId": "470ff6e7-b87c-4991-eb10-d9e530df14ef"
      },
      "execution_count": 94,
      "outputs": [
        {
          "output_type": "execute_result",
          "data": {
            "text/plain": [
              "(Index(['Safety Features', 'Tech Features', 'Marketing Spend',\n",
              "        'Premium Hatchback', 'SUV'],\n",
              "       dtype='object'),\n",
              " Index(['Profit'], dtype='object'))"
            ]
          },
          "metadata": {},
          "execution_count": 94
        }
      ]
    },
    {
      "cell_type": "code",
      "source": [
        "input_data = pd.DataFrame({\n",
        "    'Safety Features': [1315.46],\n",
        "    'Tech Features': [115816.21],\n",
        "    'Marketing Spend': [297114.46],\n",
        "    'Premium Hatchback': [1],\n",
        "    'SUV': [0]\n",
        "})\n",
        "predicted_profit = model.predict(input_data)\n",
        "print(f\"Predicted Profit: {predicted_profit[0]}\")"
      ],
      "metadata": {
        "colab": {
          "base_uri": "https://localhost:8080/"
        },
        "id": "etXw5VjdfVRV",
        "outputId": "3811c0d5-0b40-48f0-e4f6-c3a0d370c309"
      },
      "execution_count": 95,
      "outputs": [
        {
          "output_type": "stream",
          "name": "stdout",
          "text": [
            "Predicted Profit: [84489.1056363]\n"
          ]
        }
      ]
    },
    {
      "cell_type": "code",
      "source": [],
      "metadata": {
        "id": "SGiSyMnZf8ya"
      },
      "execution_count": 95,
      "outputs": []
    },
    {
      "cell_type": "markdown",
      "source": [
        "# Assignment 3"
      ],
      "metadata": {
        "id": "VPHcERJyhbB0"
      }
    },
    {
      "cell_type": "markdown",
      "source": [
        "**Executive Summary**\n",
        "Heart disease is easier to treat when it is detected in the early stages. Statistical techniques may aid a more efficient analysis in the prediction of the disease. Moreover, this prediction is one of the most central problems in medicine, as it is one of the leading diseases related to an unhealthy lifestyle. So, an early prediction of this disease will be useful for a cure or aversion.\n",
        "\n",
        "**Problem Statement:**\n",
        "Analyze the heart disease dataset to explore the logistic regression algorithm and build a model to predict the disease.\n",
        "\n",
        "**Dataset Information:**\n",
        "Each attribute in the heart disease dataset is a medical risk factor.\n",
        "\n",
        "![image.png](data:image/png;base64,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)\n",
        "\n",
        "**Learning Outcome:**\n",
        "The students should be able to predict heart disease from medical records with the help of a classification model.\n",
        " You are provided with four datasets:\n",
        "\n",
        "1. X_train.xlsx\n",
        "\n",
        "2. X_test.xlsx\n",
        "\n",
        "3. Y_train.xlsx\n",
        "\n",
        "4. Y_test.xlsx  "
      ],
      "metadata": {
        "id": "UNge7PEy3F_M"
      }
    },
    {
      "cell_type": "markdown",
      "source": [
        "You will be working on a classification problem where the target variable says whether the customer has a heart disease (indicated by 1) or not (indicated by 0).\n",
        "\n",
        "Please follow the instructions given below to complete your assignment.\n",
        "\n",
        "Use only Google Collab for doing this assignment.\n",
        "\n",
        "Do not try feature engineering on the dataset as it will modify the answers\n",
        "\n",
        "Do not consider this as an imbalanced dataset\n",
        "\n",
        "Just Load the X_train.xlsx, Y_train. xlsx\n",
        "\n",
        "Separtely load the X_test. xlsx and Y_test. xlsx\n",
        "\n",
        "Run LogisticRegression() with random state = 17, and use max_iterations = 1000.\n",
        "\n",
        "Fit the model on X_train and y_train\n",
        "\n",
        "Predict on the X_train using the Logistic Regression model and store the predictions in y_pred_train\n",
        "\n",
        "Predict on the X_test using the Logistic Regression model and store the predictions in y_pred_test\n",
        "\n",
        "Print the classification report for training and test data predictions\n",
        "\n",
        "Create the confusion matrix for test data\n",
        "\n",
        "Round-off all answers to 2 decimal places"
      ],
      "metadata": {
        "id": "bNGPPzw83a0d"
      }
    },
    {
      "cell_type": "code",
      "source": [
        "import pandas as pd\n",
        "from sklearn.linear_model import LogisticRegression\n",
        "from sklearn.metrics import classification_report, confusion_matrix, recall_score, precision_score\n"
      ],
      "metadata": {
        "id": "sURO5ybuhc2x"
      },
      "execution_count": 96,
      "outputs": []
    },
    {
      "cell_type": "code",
      "source": [
        "X_train = pd.read_excel('X_train.xlsx')\n",
        "y_train = pd.read_excel('Y_train.xlsx')\n",
        "X_test = pd.read_excel('X_test.xlsx')\n",
        "y_test = pd.read_excel('Y_test.xlsx')"
      ],
      "metadata": {
        "id": "XL-DNNHtvDW0"
      },
      "execution_count": 97,
      "outputs": []
    },
    {
      "cell_type": "code",
      "source": [
        "X_train.drop(['Unnamed: 0'],axis=1,  inplace=True)\n",
        "X_test.drop(['Unnamed: 0'],axis=1, inplace=True)\n",
        "y_train.drop(['Unnamed: 0'],axis=1, inplace=True)\n",
        "y_test.drop(['Unnamed: 0'],axis=1, inplace=True)"
      ],
      "metadata": {
        "id": "VTqNWg6Btzps"
      },
      "execution_count": 98,
      "outputs": []
    },
    {
      "cell_type": "code",
      "source": [
        "y_train.columns"
      ],
      "metadata": {
        "colab": {
          "base_uri": "https://localhost:8080/"
        },
        "id": "Wr_7BLPdtvdL",
        "outputId": "243e3451-1ca0-4aed-d64b-545e5612cab5"
      },
      "execution_count": 99,
      "outputs": [
        {
          "output_type": "execute_result",
          "data": {
            "text/plain": [
              "Index(['target'], dtype='object')"
            ]
          },
          "metadata": {},
          "execution_count": 99
        }
      ]
    },
    {
      "cell_type": "code",
      "source": [
        "X_test.head()"
      ],
      "metadata": {
        "colab": {
          "base_uri": "https://localhost:8080/",
          "height": 226
        },
        "id": "CXEsRuE6tp0Y",
        "outputId": "2128bace-9ab7-49db-8b4e-b05402518165"
      },
      "execution_count": 100,
      "outputs": [
        {
          "output_type": "execute_result",
          "data": {
            "text/plain": [
              "   age  gender  chest_pain  rest_bps  cholestrol  fasting_blood_sugar  \\\n",
              "0   56       0           0       134         409                    0   \n",
              "1   58       1           2       112         230                    0   \n",
              "2   64       1           2       125         309                    0   \n",
              "3   47       1           0       112         204                    0   \n",
              "4   50       1           0       150         243                    0   \n",
              "\n",
              "   rest_ecg  thalach  exer_angina  old_peak  slope  ca  thalassemia  \n",
              "0         0      150            1       1.9      1   2            3  \n",
              "1         0      165            0       2.5      1   1            3  \n",
              "2         1      131            1       1.8      1   0            3  \n",
              "3         1      143            0       0.1      2   0            2  \n",
              "4         0      128            0       2.6      1   0            3  "
            ],
            "text/html": [
              "\n",
              "  <div id=\"df-6478f450-af2b-49c4-9e52-a0b389c61a51\" class=\"colab-df-container\">\n",
              "    <div>\n",
              "<style scoped>\n",
              "    .dataframe tbody tr th:only-of-type {\n",
              "        vertical-align: middle;\n",
              "    }\n",
              "\n",
              "    .dataframe tbody tr th {\n",
              "        vertical-align: top;\n",
              "    }\n",
              "\n",
              "    .dataframe thead th {\n",
              "        text-align: right;\n",
              "    }\n",
              "</style>\n",
              "<table border=\"1\" class=\"dataframe\">\n",
              "  <thead>\n",
              "    <tr style=\"text-align: right;\">\n",
              "      <th></th>\n",
              "      <th>age</th>\n",
              "      <th>gender</th>\n",
              "      <th>chest_pain</th>\n",
              "      <th>rest_bps</th>\n",
              "      <th>cholestrol</th>\n",
              "      <th>fasting_blood_sugar</th>\n",
              "      <th>rest_ecg</th>\n",
              "      <th>thalach</th>\n",
              "      <th>exer_angina</th>\n",
              "      <th>old_peak</th>\n",
              "      <th>slope</th>\n",
              "      <th>ca</th>\n",
              "      <th>thalassemia</th>\n",
              "    </tr>\n",
              "  </thead>\n",
              "  <tbody>\n",
              "    <tr>\n",
              "      <th>0</th>\n",
              "      <td>56</td>\n",
              "      <td>0</td>\n",
              "      <td>0</td>\n",
              "      <td>134</td>\n",
              "      <td>409</td>\n",
              "      <td>0</td>\n",
              "      <td>0</td>\n",
              "      <td>150</td>\n",
              "      <td>1</td>\n",
              "      <td>1.9</td>\n",
              "      <td>1</td>\n",
              "      <td>2</td>\n",
              "      <td>3</td>\n",
              "    </tr>\n",
              "    <tr>\n",
              "      <th>1</th>\n",
              "      <td>58</td>\n",
              "      <td>1</td>\n",
              "      <td>2</td>\n",
              "      <td>112</td>\n",
              "      <td>230</td>\n",
              "      <td>0</td>\n",
              "      <td>0</td>\n",
              "      <td>165</td>\n",
              "      <td>0</td>\n",
              "      <td>2.5</td>\n",
              "      <td>1</td>\n",
              "      <td>1</td>\n",
              "      <td>3</td>\n",
              "    </tr>\n",
              "    <tr>\n",
              "      <th>2</th>\n",
              "      <td>64</td>\n",
              "      <td>1</td>\n",
              "      <td>2</td>\n",
              "      <td>125</td>\n",
              "      <td>309</td>\n",
              "      <td>0</td>\n",
              "      <td>1</td>\n",
              "      <td>131</td>\n",
              "      <td>1</td>\n",
              "      <td>1.8</td>\n",
              "      <td>1</td>\n",
              "      <td>0</td>\n",
              "      <td>3</td>\n",
              "    </tr>\n",
              "    <tr>\n",
              "      <th>3</th>\n",
              "      <td>47</td>\n",
              "      <td>1</td>\n",
              "      <td>0</td>\n",
              "      <td>112</td>\n",
              "      <td>204</td>\n",
              "      <td>0</td>\n",
              "      <td>1</td>\n",
              "      <td>143</td>\n",
              "      <td>0</td>\n",
              "      <td>0.1</td>\n",
              "      <td>2</td>\n",
              "      <td>0</td>\n",
              "      <td>2</td>\n",
              "    </tr>\n",
              "    <tr>\n",
              "      <th>4</th>\n",
              "      <td>50</td>\n",
              "      <td>1</td>\n",
              "      <td>0</td>\n",
              "      <td>150</td>\n",
              "      <td>243</td>\n",
              "      <td>0</td>\n",
              "      <td>0</td>\n",
              "      <td>128</td>\n",
              "      <td>0</td>\n",
              "      <td>2.6</td>\n",
              "      <td>1</td>\n",
              "      <td>0</td>\n",
              "      <td>3</td>\n",
              "    </tr>\n",
              "  </tbody>\n",
              "</table>\n",
              "</div>\n",
              "    <div class=\"colab-df-buttons\">\n",
              "\n",
              "  <div class=\"colab-df-container\">\n",
              "    <button class=\"colab-df-convert\" onclick=\"convertToInteractive('df-6478f450-af2b-49c4-9e52-a0b389c61a51')\"\n",
              "            title=\"Convert this dataframe to an interactive table.\"\n",
              "            style=\"display:none;\">\n",
              "\n",
              "  <svg xmlns=\"http://www.w3.org/2000/svg\" height=\"24px\" viewBox=\"0 -960 960 960\">\n",
              "    <path d=\"M120-120v-720h720v720H120Zm60-500h600v-160H180v160Zm220 220h160v-160H400v160Zm0 220h160v-160H400v160ZM180-400h160v-160H180v160Zm440 0h160v-160H620v160ZM180-180h160v-160H180v160Zm440 0h160v-160H620v160Z\"/>\n",
              "  </svg>\n",
              "    </button>\n",
              "\n",
              "  <style>\n",
              "    .colab-df-container {\n",
              "      display:flex;\n",
              "      gap: 12px;\n",
              "    }\n",
              "\n",
              "    .colab-df-convert {\n",
              "      background-color: #E8F0FE;\n",
              "      border: none;\n",
              "      border-radius: 50%;\n",
              "      cursor: pointer;\n",
              "      display: none;\n",
              "      fill: #1967D2;\n",
              "      height: 32px;\n",
              "      padding: 0 0 0 0;\n",
              "      width: 32px;\n",
              "    }\n",
              "\n",
              "    .colab-df-convert:hover {\n",
              "      background-color: #E2EBFA;\n",
              "      box-shadow: 0px 1px 2px rgba(60, 64, 67, 0.3), 0px 1px 3px 1px rgba(60, 64, 67, 0.15);\n",
              "      fill: #174EA6;\n",
              "    }\n",
              "\n",
              "    .colab-df-buttons div {\n",
              "      margin-bottom: 4px;\n",
              "    }\n",
              "\n",
              "    [theme=dark] .colab-df-convert {\n",
              "      background-color: #3B4455;\n",
              "      fill: #D2E3FC;\n",
              "    }\n",
              "\n",
              "    [theme=dark] .colab-df-convert:hover {\n",
              "      background-color: #434B5C;\n",
              "      box-shadow: 0px 1px 3px 1px rgba(0, 0, 0, 0.15);\n",
              "      filter: drop-shadow(0px 1px 2px rgba(0, 0, 0, 0.3));\n",
              "      fill: #FFFFFF;\n",
              "    }\n",
              "  </style>\n",
              "\n",
              "    <script>\n",
              "      const buttonEl =\n",
              "        document.querySelector('#df-6478f450-af2b-49c4-9e52-a0b389c61a51 button.colab-df-convert');\n",
              "      buttonEl.style.display =\n",
              "        google.colab.kernel.accessAllowed ? 'block' : 'none';\n",
              "\n",
              "      async function convertToInteractive(key) {\n",
              "        const element = document.querySelector('#df-6478f450-af2b-49c4-9e52-a0b389c61a51');\n",
              "        const dataTable =\n",
              "          await google.colab.kernel.invokeFunction('convertToInteractive',\n",
              "                                                    [key], {});\n",
              "        if (!dataTable) return;\n",
              "\n",
              "        const docLinkHtml = 'Like what you see? Visit the ' +\n",
              "          '<a target=\"_blank\" href=https://colab.research.google.com/notebooks/data_table.ipynb>data table notebook</a>'\n",
              "          + ' to learn more about interactive tables.';\n",
              "        element.innerHTML = '';\n",
              "        dataTable['output_type'] = 'display_data';\n",
              "        await google.colab.output.renderOutput(dataTable, element);\n",
              "        const docLink = document.createElement('div');\n",
              "        docLink.innerHTML = docLinkHtml;\n",
              "        element.appendChild(docLink);\n",
              "      }\n",
              "    </script>\n",
              "  </div>\n",
              "\n",
              "\n",
              "<div id=\"df-a470f05c-cade-4290-8789-ff3bfa7ceecd\">\n",
              "  <button class=\"colab-df-quickchart\" onclick=\"quickchart('df-a470f05c-cade-4290-8789-ff3bfa7ceecd')\"\n",
              "            title=\"Suggest charts\"\n",
              "            style=\"display:none;\">\n",
              "\n",
              "<svg xmlns=\"http://www.w3.org/2000/svg\" height=\"24px\"viewBox=\"0 0 24 24\"\n",
              "     width=\"24px\">\n",
              "    <g>\n",
              "        <path d=\"M19 3H5c-1.1 0-2 .9-2 2v14c0 1.1.9 2 2 2h14c1.1 0 2-.9 2-2V5c0-1.1-.9-2-2-2zM9 17H7v-7h2v7zm4 0h-2V7h2v10zm4 0h-2v-4h2v4z\"/>\n",
              "    </g>\n",
              "</svg>\n",
              "  </button>\n",
              "\n",
              "<style>\n",
              "  .colab-df-quickchart {\n",
              "      --bg-color: #E8F0FE;\n",
              "      --fill-color: #1967D2;\n",
              "      --hover-bg-color: #E2EBFA;\n",
              "      --hover-fill-color: #174EA6;\n",
              "      --disabled-fill-color: #AAA;\n",
              "      --disabled-bg-color: #DDD;\n",
              "  }\n",
              "\n",
              "  [theme=dark] .colab-df-quickchart {\n",
              "      --bg-color: #3B4455;\n",
              "      --fill-color: #D2E3FC;\n",
              "      --hover-bg-color: #434B5C;\n",
              "      --hover-fill-color: #FFFFFF;\n",
              "      --disabled-bg-color: #3B4455;\n",
              "      --disabled-fill-color: #666;\n",
              "  }\n",
              "\n",
              "  .colab-df-quickchart {\n",
              "    background-color: var(--bg-color);\n",
              "    border: none;\n",
              "    border-radius: 50%;\n",
              "    cursor: pointer;\n",
              "    display: none;\n",
              "    fill: var(--fill-color);\n",
              "    height: 32px;\n",
              "    padding: 0;\n",
              "    width: 32px;\n",
              "  }\n",
              "\n",
              "  .colab-df-quickchart:hover {\n",
              "    background-color: var(--hover-bg-color);\n",
              "    box-shadow: 0 1px 2px rgba(60, 64, 67, 0.3), 0 1px 3px 1px rgba(60, 64, 67, 0.15);\n",
              "    fill: var(--button-hover-fill-color);\n",
              "  }\n",
              "\n",
              "  .colab-df-quickchart-complete:disabled,\n",
              "  .colab-df-quickchart-complete:disabled:hover {\n",
              "    background-color: var(--disabled-bg-color);\n",
              "    fill: var(--disabled-fill-color);\n",
              "    box-shadow: none;\n",
              "  }\n",
              "\n",
              "  .colab-df-spinner {\n",
              "    border: 2px solid var(--fill-color);\n",
              "    border-color: transparent;\n",
              "    border-bottom-color: var(--fill-color);\n",
              "    animation:\n",
              "      spin 1s steps(1) infinite;\n",
              "  }\n",
              "\n",
              "  @keyframes spin {\n",
              "    0% {\n",
              "      border-color: transparent;\n",
              "      border-bottom-color: var(--fill-color);\n",
              "      border-left-color: var(--fill-color);\n",
              "    }\n",
              "    20% {\n",
              "      border-color: transparent;\n",
              "      border-left-color: var(--fill-color);\n",
              "      border-top-color: var(--fill-color);\n",
              "    }\n",
              "    30% {\n",
              "      border-color: transparent;\n",
              "      border-left-color: var(--fill-color);\n",
              "      border-top-color: var(--fill-color);\n",
              "      border-right-color: var(--fill-color);\n",
              "    }\n",
              "    40% {\n",
              "      border-color: transparent;\n",
              "      border-right-color: var(--fill-color);\n",
              "      border-top-color: var(--fill-color);\n",
              "    }\n",
              "    60% {\n",
              "      border-color: transparent;\n",
              "      border-right-color: var(--fill-color);\n",
              "    }\n",
              "    80% {\n",
              "      border-color: transparent;\n",
              "      border-right-color: var(--fill-color);\n",
              "      border-bottom-color: var(--fill-color);\n",
              "    }\n",
              "    90% {\n",
              "      border-color: transparent;\n",
              "      border-bottom-color: var(--fill-color);\n",
              "    }\n",
              "  }\n",
              "</style>\n",
              "\n",
              "  <script>\n",
              "    async function quickchart(key) {\n",
              "      const quickchartButtonEl =\n",
              "        document.querySelector('#' + key + ' button');\n",
              "      quickchartButtonEl.disabled = true;  // To prevent multiple clicks.\n",
              "      quickchartButtonEl.classList.add('colab-df-spinner');\n",
              "      try {\n",
              "        const charts = await google.colab.kernel.invokeFunction(\n",
              "            'suggestCharts', [key], {});\n",
              "      } catch (error) {\n",
              "        console.error('Error during call to suggestCharts:', error);\n",
              "      }\n",
              "      quickchartButtonEl.classList.remove('colab-df-spinner');\n",
              "      quickchartButtonEl.classList.add('colab-df-quickchart-complete');\n",
              "    }\n",
              "    (() => {\n",
              "      let quickchartButtonEl =\n",
              "        document.querySelector('#df-a470f05c-cade-4290-8789-ff3bfa7ceecd button');\n",
              "      quickchartButtonEl.style.display =\n",
              "        google.colab.kernel.accessAllowed ? 'block' : 'none';\n",
              "    })();\n",
              "  </script>\n",
              "</div>\n",
              "\n",
              "    </div>\n",
              "  </div>\n"
            ],
            "application/vnd.google.colaboratory.intrinsic+json": {
              "type": "dataframe",
              "variable_name": "X_test",
              "summary": "{\n  \"name\": \"X_test\",\n  \"rows\": 91,\n  \"fields\": [\n    {\n      \"column\": \"age\",\n      \"properties\": {\n        \"dtype\": \"number\",\n        \"std\": 8,\n        \"min\": 35,\n        \"max\": 71,\n        \"num_unique_values\": 34,\n        \"samples\": [\n          52,\n          70,\n          53\n        ],\n        \"semantic_type\": \"\",\n        \"description\": \"\"\n      }\n    },\n    {\n      \"column\": \"gender\",\n      \"properties\": {\n        \"dtype\": \"number\",\n        \"std\": 0,\n        \"min\": 0,\n        \"max\": 1,\n        \"num_unique_values\": 2,\n        \"samples\": [\n          1,\n          0\n        ],\n        \"semantic_type\": \"\",\n        \"description\": \"\"\n      }\n    },\n    {\n      \"column\": \"chest_pain\",\n      \"properties\": {\n        \"dtype\": \"number\",\n        \"std\": 1,\n        \"min\": 0,\n        \"max\": 3,\n        \"num_unique_values\": 4,\n        \"samples\": [\n          2,\n          3\n        ],\n        \"semantic_type\": \"\",\n        \"description\": \"\"\n      }\n    },\n    {\n      \"column\": \"rest_bps\",\n      \"properties\": {\n        \"dtype\": \"number\",\n        \"std\": 15,\n        \"min\": 100,\n        \"max\": 178,\n        \"num_unique_values\": 26,\n        \"samples\": [\n          110,\n          100\n        ],\n        \"semantic_type\": \"\",\n        \"description\": \"\"\n      }\n    },\n    {\n      \"column\": \"cholestrol\",\n      \"properties\": {\n        \"dtype\": \"number\",\n        \"std\": 46,\n        \"min\": 131,\n        \"max\": 409,\n        \"num_unique_values\": 72,\n        \"samples\": [\n          243,\n          260\n        ],\n        \"semantic_type\": \"\",\n        \"description\": \"\"\n      }\n    },\n    {\n      \"column\": \"fasting_blood_sugar\",\n      \"properties\": {\n        \"dtype\": \"number\",\n        \"std\": 0,\n        \"min\": 0,\n        \"max\": 1,\n        \"num_unique_values\": 2,\n        \"samples\": [\n          1,\n          0\n        ],\n        \"semantic_type\": \"\",\n        \"description\": \"\"\n      }\n    },\n    {\n      \"column\": \"rest_ecg\",\n      \"properties\": {\n        \"dtype\": \"number\",\n        \"std\": 0,\n        \"min\": 0,\n        \"max\": 2,\n        \"num_unique_values\": 3,\n        \"samples\": [\n          0,\n          1\n        ],\n        \"semantic_type\": \"\",\n        \"description\": \"\"\n      }\n    },\n    {\n      \"column\": \"thalach\",\n      \"properties\": {\n        \"dtype\": \"number\",\n        \"std\": 22,\n        \"min\": 99,\n        \"max\": 187,\n        \"num_unique_values\": 53,\n        \"samples\": [\n          157,\n          132\n        ],\n        \"semantic_type\": \"\",\n        \"description\": \"\"\n      }\n    },\n    {\n      \"column\": \"exer_angina\",\n      \"properties\": {\n        \"dtype\": \"number\",\n        \"std\": 0,\n        \"min\": 0,\n        \"max\": 1,\n        \"num_unique_values\": 2,\n        \"samples\": [\n          0,\n          1\n        ],\n        \"semantic_type\": \"\",\n        \"description\": \"\"\n      }\n    },\n    {\n      \"column\": \"old_peak\",\n      \"properties\": {\n        \"dtype\": \"number\",\n        \"std\": 1.133019779939354,\n        \"min\": 0.0,\n        \"max\": 3.8,\n        \"num_unique_values\": 29,\n        \"samples\": [\n          0.3,\n          2.2\n        ],\n        \"semantic_type\": \"\",\n        \"description\": \"\"\n      }\n    },\n    {\n      \"column\": \"slope\",\n      \"properties\": {\n        \"dtype\": \"number\",\n        \"std\": 0,\n        \"min\": 0,\n        \"max\": 2,\n        \"num_unique_values\": 3,\n        \"samples\": [\n          1,\n          2\n        ],\n        \"semantic_type\": \"\",\n        \"description\": \"\"\n      }\n    },\n    {\n      \"column\": \"ca\",\n      \"properties\": {\n        \"dtype\": \"number\",\n        \"std\": 1,\n        \"min\": 0,\n        \"max\": 4,\n        \"num_unique_values\": 5,\n        \"samples\": [\n          1,\n          4\n        ],\n        \"semantic_type\": \"\",\n        \"description\": \"\"\n      }\n    },\n    {\n      \"column\": \"thalassemia\",\n      \"properties\": {\n        \"dtype\": \"number\",\n        \"std\": 0,\n        \"min\": 1,\n        \"max\": 3,\n        \"num_unique_values\": 3,\n        \"samples\": [\n          3,\n          2\n        ],\n        \"semantic_type\": \"\",\n        \"description\": \"\"\n      }\n    }\n  ]\n}"
            }
          },
          "metadata": {},
          "execution_count": 100
        }
      ]
    },
    {
      "cell_type": "markdown",
      "source": [
        "### Question 1"
      ],
      "metadata": {
        "id": "GxXEZbwMvYNg"
      }
    },
    {
      "cell_type": "markdown",
      "source": [
        "How many observations are available in the training data? Hint: Enter your answer as an integer."
      ],
      "metadata": {
        "id": "Ld3OEUi9vaNv"
      }
    },
    {
      "cell_type": "code",
      "source": [
        "# Check the number of observations (rows) in X_train and y_train\n",
        "num_observations_X_train = X_train.shape[0]\n",
        "num_observations_y_train = y_train.shape[0]\n",
        "\n",
        "print(f\"Number of observations in X_train: {num_observations_X_train}\")\n",
        "print(f\"Number of observations in y_train: {num_observations_y_train}\")"
      ],
      "metadata": {
        "colab": {
          "base_uri": "https://localhost:8080/"
        },
        "id": "rfOyj7mIvE4c",
        "outputId": "f2ddaf68-9581-48d7-d375-c832fab88901"
      },
      "execution_count": 101,
      "outputs": [
        {
          "output_type": "stream",
          "name": "stdout",
          "text": [
            "Number of observations in X_train: 212\n",
            "Number of observations in y_train: 212\n"
          ]
        }
      ]
    },
    {
      "cell_type": "markdown",
      "source": [
        "### Question 2"
      ],
      "metadata": {
        "id": "n_9vpZ4tvoba"
      }
    },
    {
      "cell_type": "markdown",
      "source": [
        "How many observations are available in the test data?"
      ],
      "metadata": {
        "id": "rtKMOwMmwFzB"
      }
    },
    {
      "cell_type": "code",
      "source": [
        "# Check the number of observations (rows) in X_test and y_test\n",
        "num_observations_X_test = X_test.shape[0]\n",
        "num_observations_y_test = y_test.shape[0]\n",
        "\n",
        "print(f\"Number of observations in X_test: {num_observations_X_test}\")\n",
        "print(f\"Number of observations in y_test: {num_observations_y_test}\")\n"
      ],
      "metadata": {
        "colab": {
          "base_uri": "https://localhost:8080/"
        },
        "id": "Nt-N61yqvdg_",
        "outputId": "81858662-2522-4947-fb71-2f3f97018e5f"
      },
      "execution_count": 102,
      "outputs": [
        {
          "output_type": "stream",
          "name": "stdout",
          "text": [
            "Number of observations in X_test: 91\n",
            "Number of observations in y_test: 91\n"
          ]
        }
      ]
    },
    {
      "cell_type": "markdown",
      "source": [
        "### Question 3"
      ],
      "metadata": {
        "id": "hvjdgurxwJAG"
      }
    },
    {
      "cell_type": "markdown",
      "source": [
        "What is the proportion of patients who have heart disease in the training dataset?\n",
        "Hint: Mention your answer in terms of percentage. If your answer is 70.51%, enter 70.51"
      ],
      "metadata": {
        "id": "mfPTwxCPwUJJ"
      }
    },
    {
      "cell_type": "code",
      "source": [
        "# Calculate the proportion of patients with heart disease (target = 1)\n",
        "num_heart_disease = (y_train['target'] == 1).sum()  # Count patients with heart disease\n",
        "total_patients = y_train.shape[0]  # Total number of patients\n",
        "\n",
        "# Calculate the percentage\n",
        "proportion_heart_disease = (num_heart_disease / total_patients) * 100\n",
        "\n",
        "# Print the result rounded to 2 decimal places\n",
        "print(f\"Proportion of patients with heart disease: {proportion_heart_disease:.2f}%\")"
      ],
      "metadata": {
        "colab": {
          "base_uri": "https://localhost:8080/"
        },
        "id": "jVCtfGyTwFDF",
        "outputId": "3b1fa307-3c8e-469e-bf51-8d3069e9dac9"
      },
      "execution_count": 103,
      "outputs": [
        {
          "output_type": "stream",
          "name": "stdout",
          "text": [
            "Proportion of patients with heart disease: 58.49%\n"
          ]
        }
      ]
    },
    {
      "cell_type": "markdown",
      "source": [
        "### Question 4"
      ],
      "metadata": {
        "id": "Ky-R213fwinx"
      }
    },
    {
      "cell_type": "markdown",
      "source": [
        "What is the proportion of patients who have heart disease in the test dataset?\n",
        "Hint:Mention your answer in terms of percentage. If your answer is 70.51%, enter 70.51"
      ],
      "metadata": {
        "id": "hRw2_0eqx0oC"
      }
    },
    {
      "cell_type": "code",
      "source": [
        "# Calculate the proportion of patients with heart disease (target = 1) in the test dataset\n",
        "num_heart_disease_test = (y_test['target'] == 1).sum()  # Count patients with heart disease\n",
        "total_patients_test = y_test.shape[0]  # Total number of patients\n",
        "\n",
        "# Calculate the percentage\n",
        "proportion_heart_disease_test = (num_heart_disease_test / total_patients_test) * 100\n",
        "\n",
        "# Print the result rounded to 2 decimal places\n",
        "print(f\"Proportion of patients with heart disease in the test dataset: {proportion_heart_disease_test:.2f}%\")"
      ],
      "metadata": {
        "colab": {
          "base_uri": "https://localhost:8080/"
        },
        "id": "dwYELIABwe9F",
        "outputId": "3354cd7b-81f2-4eaa-e2cd-196779556d07"
      },
      "execution_count": 104,
      "outputs": [
        {
          "output_type": "stream",
          "name": "stdout",
          "text": [
            "Proportion of patients with heart disease in the test dataset: 45.05%\n"
          ]
        }
      ]
    },
    {
      "cell_type": "markdown",
      "source": [
        "### Question 5"
      ],
      "metadata": {
        "id": "V3eWdQ7SyHyR"
      }
    },
    {
      "cell_type": "markdown",
      "source": [
        "What is the proportion of patients who do not have heart disease in the test dataset?\n",
        "Hint: Mention your answer in terms of percentage. If your answer is 70.51%, enter 70.51\n"
      ],
      "metadata": {
        "id": "9cfzQJtzyJRq"
      }
    },
    {
      "cell_type": "code",
      "source": [
        "# Calculate the proportion of patients without heart disease (target = 0) in the test dataset\n",
        "num_no_heart_disease_test = (y_test['target'] == 0).sum()  # Count patients without heart disease\n",
        "total_patients_test = y_test.shape[0]  # Total number of patients\n",
        "\n",
        "# Calculate the percentage\n",
        "proportion_no_heart_disease_test = (num_no_heart_disease_test / total_patients_test) * 100\n",
        "\n",
        "# Print the result rounded to 2 decimal places\n",
        "print(f\"Proportion of patients without heart disease in the test dataset: {proportion_no_heart_disease_test:.2f}%\")"
      ],
      "metadata": {
        "colab": {
          "base_uri": "https://localhost:8080/"
        },
        "id": "NKXT0j8-x5a4",
        "outputId": "bdad36da-70cf-4c51-972b-b8bd5d9dceb2"
      },
      "execution_count": 105,
      "outputs": [
        {
          "output_type": "stream",
          "name": "stdout",
          "text": [
            "Proportion of patients without heart disease in the test dataset: 54.95%\n"
          ]
        }
      ]
    },
    {
      "cell_type": "markdown",
      "source": [
        "### Question 6"
      ],
      "metadata": {
        "id": "8OxeXa2JyUwE"
      }
    },
    {
      "cell_type": "markdown",
      "source": [
        "What is the proportion of patients who do not have heart disease in the training dataset?\n",
        "Hint: Mention your answer in terms of percentage. If your answer is 70.51%, enter 70.51"
      ],
      "metadata": {
        "id": "hHqNx4RmyWZM"
      }
    },
    {
      "cell_type": "code",
      "source": [
        "# Calculate the proportion of patients without heart disease (target = 0) in the training dataset\n",
        "num_no_heart_disease_train = (y_train['target'] == 0).sum()  # Count patients without heart disease\n",
        "total_patients_train = y_train.shape[0]  # Total number of patients\n",
        "\n",
        "# Calculate the percentage\n",
        "proportion_no_heart_disease_train = (num_no_heart_disease_train / total_patients_train) * 100\n",
        "\n",
        "# Print the result rounded to 2 decimal places\n",
        "print(f\"Proportion of patients without heart disease in the training dataset: {proportion_no_heart_disease_train:.2f}%\")"
      ],
      "metadata": {
        "colab": {
          "base_uri": "https://localhost:8080/"
        },
        "id": "yqK2QFVUyMMW",
        "outputId": "87dd09ce-fcc5-4a22-f686-eaf28b974c6d"
      },
      "execution_count": 106,
      "outputs": [
        {
          "output_type": "stream",
          "name": "stdout",
          "text": [
            "Proportion of patients without heart disease in the training dataset: 41.51%\n"
          ]
        }
      ]
    },
    {
      "cell_type": "markdown",
      "source": [
        "### Question 7"
      ],
      "metadata": {
        "id": "v8wb4OYyzLmV"
      }
    },
    {
      "cell_type": "markdown",
      "source": [
        "Fit the model on the train data (use LogisticRegression from sklearn.linear_model and\n",
        "random state=17) and make predictions on the train data, and answer questions (7 to 9).\n",
        "What is the training accuracy? If your answer is 70.51%, enter 70.5.\n",
        "\n",
        "Hint: Compare the predictions of Y_train and Y_pred_train. If your answer is 70.51%,\n",
        "enter 70.51"
      ],
      "metadata": {
        "id": "MIlBr5hPzNnv"
      }
    },
    {
      "cell_type": "code",
      "source": [
        "from sklearn.linear_model import LogisticRegression\n",
        "from sklearn.metrics import accuracy_score\n",
        "\n",
        "# Extract the target column from y_train if it's a DataFrame\n",
        "y_train = y_train['target']\n",
        "\n",
        "# Initialize and fit the Logistic Regression model\n",
        "model = LogisticRegression(random_state=17, max_iter=1000)\n",
        "model.fit(X_train, y_train)\n",
        "\n",
        "# Make predictions on the training data\n",
        "y_pred_train = model.predict(X_train)\n",
        "\n",
        "# Calculate the training accuracy\n",
        "training_accuracy = accuracy_score(y_train, y_pred_train) * 100\n",
        "\n",
        "# Print the training accuracy rounded to 2 decimal places\n",
        "print(f\"Training Accuracy: {training_accuracy:.2f}%\")\n"
      ],
      "metadata": {
        "colab": {
          "base_uri": "https://localhost:8080/"
        },
        "id": "Tlt7ESV2yYcK",
        "outputId": "27a025c3-f464-431b-f104-a2e1d0fdb236"
      },
      "execution_count": 107,
      "outputs": [
        {
          "output_type": "stream",
          "name": "stdout",
          "text": [
            "Training Accuracy: 85.38%\n"
          ]
        }
      ]
    },
    {
      "cell_type": "markdown",
      "source": [
        "### Question 8"
      ],
      "metadata": {
        "id": "syZgXTV5zoJ0"
      }
    },
    {
      "cell_type": "markdown",
      "source": [
        "What is the training data precision of your model if the aim is to find patients who will\n",
        "not have heart disease?\n",
        " Hint: Compare the predictions of Y_train and Y_pred_train. Mention your answer in terms of percentage. If your answer is 70.51%, enter 70.51"
      ],
      "metadata": {
        "id": "CAD7o4LEzp_-"
      }
    },
    {
      "cell_type": "code",
      "source": [
        "# Calculate the precision for the class where the target is 0\n",
        "precision_no_heart_disease = precision_score(y_train, y_pred_train, pos_label=0) * 100\n",
        "\n",
        "# Print the precision rounded to 2 decimal places\n",
        "print(f\"Training Data Precision for patients without heart disease: {precision_no_heart_disease:.2f}%\")\n"
      ],
      "metadata": {
        "colab": {
          "base_uri": "https://localhost:8080/"
        },
        "id": "metRhus6zQRk",
        "outputId": "d1534ad3-b44c-4e0c-d1d8-4bd788963b95"
      },
      "execution_count": 108,
      "outputs": [
        {
          "output_type": "stream",
          "name": "stdout",
          "text": [
            "Training Data Precision for patients without heart disease: 86.08%\n"
          ]
        }
      ]
    },
    {
      "cell_type": "markdown",
      "source": [
        "### Question 9"
      ],
      "metadata": {
        "id": "ZKoFTVeez7lq"
      }
    },
    {
      "cell_type": "markdown",
      "source": [
        "What is the training data recall of your model if the aim is to find patients who will have heart disease? Hint: enter your answer in terms of percentage. If your answer is 70.51%, enter 70.51\n"
      ],
      "metadata": {
        "id": "UAPbi5wlz9Pg"
      }
    },
    {
      "cell_type": "code",
      "source": [
        "# Calculate the recall for the class where the target is 1\n",
        "recall_heart_disease = recall_score(y_train, y_pred_train, pos_label=1) * 100\n",
        "\n",
        "# Print the recall rounded to 2 decimal places\n",
        "print(f\"Training Data Recall for patients with heart disease: {recall_heart_disease:.2f}%\")\n"
      ],
      "metadata": {
        "colab": {
          "base_uri": "https://localhost:8080/"
        },
        "id": "guDnJHtvzwC5",
        "outputId": "3e793cf0-0694-4fd1-c739-b0c61ce1335d"
      },
      "execution_count": 109,
      "outputs": [
        {
          "output_type": "stream",
          "name": "stdout",
          "text": [
            "Training Data Recall for patients with heart disease: 91.13%\n"
          ]
        }
      ]
    },
    {
      "cell_type": "markdown",
      "source": [
        "### Question 10"
      ],
      "metadata": {
        "id": "_6i8Xx660lBG"
      }
    },
    {
      "cell_type": "markdown",
      "source": [
        "After training your model on the train data, make predictions on the test data, and answer\n",
        "questions (10) to (14). From the confusion matrix, identify the number of predictions that\n",
        "have a type 1 error (false positive).\n",
        "Hint: Use confusion_matrix(Y_test, Y_pred_test).ravel() and enter your answer as an integer."
      ],
      "metadata": {
        "id": "jFrJpsAL0naI"
      }
    },
    {
      "cell_type": "code",
      "source": [
        "# Extract the target column from y_test if it's a DataFrame\n",
        "y_test = y_test['target']\n",
        "\n",
        "# Make predictions on the test data\n",
        "y_pred_test = model.predict(X_test)\n",
        "# Generate the confusion matrix\n",
        "conf_matrix = confusion_matrix(y_test, y_pred_test)\n",
        "# print(conf_matrix)\n",
        "# Extract the number of false positives (Type 1 errors)\n",
        "# The confusion matrix is in the form:\n",
        "# [[TN, FP],\n",
        "#  [FN, TP]]\n",
        "# where FP (False Positives) is at index [0, 1]\n",
        "false_positives = conf_matrix.ravel()[1]\n",
        "\n",
        "# Print the number of false positives\n",
        "print(f\"Number of Type 1 errors (false positives): {false_positives}\")"
      ],
      "metadata": {
        "colab": {
          "base_uri": "https://localhost:8080/"
        },
        "id": "hkva6SoN0BIB",
        "outputId": "1b79ce7b-dd3b-461b-a7e7-13f1000a461f"
      },
      "execution_count": 110,
      "outputs": [
        {
          "output_type": "stream",
          "name": "stdout",
          "text": [
            "Number of Type 1 errors (false positives): 17\n"
          ]
        }
      ]
    },
    {
      "cell_type": "markdown",
      "source": [
        "### Question 11"
      ],
      "metadata": {
        "id": "t8yodqLS1FTD"
      }
    },
    {
      "cell_type": "markdown",
      "source": [
        "In the test data confusion matrix, identify the number of predictions that have a type 2\n",
        "error (false negative).\n",
        "Hint: Use confusion_matrix(Y_test, Y_pred_test).ravel() and enter your answer as an integer."
      ],
      "metadata": {
        "id": "pqjLT5fl1HBO"
      }
    },
    {
      "cell_type": "code",
      "source": [
        "# where FN (False Negatives) is at index [1, 0]\n",
        "false_negatives = conf_matrix.ravel()[2]\n",
        "\n",
        "# Print the number of false negatives\n",
        "print(f\"Number of Type 2 errors (false negatives): {false_negatives}\")"
      ],
      "metadata": {
        "colab": {
          "base_uri": "https://localhost:8080/"
        },
        "id": "EKBXWUf60u7K",
        "outputId": "c2b34bc9-89ad-4a01-f69d-55dde7c62c29"
      },
      "execution_count": 111,
      "outputs": [
        {
          "output_type": "stream",
          "name": "stdout",
          "text": [
            "Number of Type 2 errors (false negatives): 4\n"
          ]
        }
      ]
    },
    {
      "cell_type": "markdown",
      "source": [
        "### Question 12"
      ],
      "metadata": {
        "id": "fmcGSHsM1hz5"
      }
    },
    {
      "cell_type": "markdown",
      "source": [
        "What is the accuracy of the model in the test data? Mention your answer in terms of\n",
        "percentage and round off the answers to two decimals. If your answer is 70.51%, enter\n",
        "70.51"
      ],
      "metadata": {
        "id": "DLQfD-Eb1jdF"
      }
    },
    {
      "cell_type": "code",
      "source": [
        "# Calculate the accuracy on the test data\n",
        "test_accuracy = accuracy_score(y_test, y_pred_test) * 100\n",
        "\n",
        "# Print the accuracy rounded to 2 decimal places\n",
        "print(f\"Test Data Accuracy: {test_accuracy:.2f}%\")\n"
      ],
      "metadata": {
        "colab": {
          "base_uri": "https://localhost:8080/"
        },
        "id": "xB_BhmZt1LMD",
        "outputId": "53439d5b-f8ef-4a12-cd61-1e4a2a1acf98"
      },
      "execution_count": 112,
      "outputs": [
        {
          "output_type": "stream",
          "name": "stdout",
          "text": [
            "Test Data Accuracy: 76.92%\n"
          ]
        }
      ]
    },
    {
      "cell_type": "markdown",
      "source": [
        "### Question 13"
      ],
      "metadata": {
        "id": "mIXgb2D712SM"
      }
    },
    {
      "cell_type": "markdown",
      "source": [
        "What is the precision of your model in the test data if the aim is to find patients who will\n",
        "have heart disease? Hint: Mention your answer in terms of percentage and round off the\n",
        "answers to two decimals. If your answer is 70.51%, enter 70.51"
      ],
      "metadata": {
        "id": "Fx_NZtYj185K"
      }
    },
    {
      "cell_type": "code",
      "source": [
        "# Calculate the precision for the class where the target is 1\n",
        "precision_heart_disease = precision_score(y_test, y_pred_test, pos_label=1) * 100\n",
        "\n",
        "# Print the precision rounded to 2 decimal places\n",
        "print(f\"Test Data Precision for patients with heart disease: {precision_heart_disease:.2f}%\")"
      ],
      "metadata": {
        "colab": {
          "base_uri": "https://localhost:8080/"
        },
        "id": "pAZTvOUE1m26",
        "outputId": "18b9d3f5-f8a4-4a8e-cce1-76d44e40aad7"
      },
      "execution_count": 113,
      "outputs": [
        {
          "output_type": "stream",
          "name": "stdout",
          "text": [
            "Test Data Precision for patients with heart disease: 68.52%\n"
          ]
        }
      ]
    },
    {
      "cell_type": "markdown",
      "source": [
        "### Question 14"
      ],
      "metadata": {
        "id": "BZ7T1wM_2H7L"
      }
    },
    {
      "cell_type": "markdown",
      "source": [
        "\n",
        "What is the recall of your model in the test data if the aim is to find patients who will have heart disease? Mention your answer in terms of percentage and round off the answers to two decimals. If your answer is 70.51%, enter 70.51"
      ],
      "metadata": {
        "id": "ElBiq1gZ2Jga"
      }
    },
    {
      "cell_type": "code",
      "source": [
        "# Calculate the recall for the class where the target is 1\n",
        "recall_heart_disease = recall_score(y_test, y_pred_test, pos_label=1) * 100\n",
        "\n",
        "# Print the recall rounded to 2 decimal places\n",
        "print(f\"Test Data Recall for patients with heart disease: {recall_heart_disease:.2f}%\")"
      ],
      "metadata": {
        "colab": {
          "base_uri": "https://localhost:8080/"
        },
        "id": "ryUvCHwN2BJE",
        "outputId": "51504526-e9aa-4837-c1ce-4a1cd5898bad"
      },
      "execution_count": 114,
      "outputs": [
        {
          "output_type": "stream",
          "name": "stdout",
          "text": [
            "Test Data Recall for patients with heart disease: 90.24%\n"
          ]
        }
      ]
    },
    {
      "cell_type": "markdown",
      "source": [
        "### Question 15"
      ],
      "metadata": {
        "id": "vKL_g8GN2kum"
      }
    },
    {
      "cell_type": "markdown",
      "source": [
        "Has the precision for customers having a heart disease increased or decreased when the model is tested on the testing data set as compared to the results obtained from the training data set?\n",
        "\n",
        "[A] Training Precision > Test Precision\n",
        "\n",
        "[B] Training Precision < Test Precision\n",
        "\n",
        "[C] Training Precision = Test Precision\n",
        "\n",
        "[D] None of the above"
      ],
      "metadata": {
        "id": "zTxylvum2mzU"
      }
    },
    {
      "cell_type": "code",
      "source": [
        "# Calculate precision on the training data\n",
        "y_pred_train = model.predict(X_train)\n",
        "precision_train = precision_score(y_train, y_pred_train, pos_label=1) * 100\n",
        "\n",
        "# Calculate precision on the test data\n",
        "y_pred_test = model.predict(X_test)\n",
        "precision_test = precision_score(y_test, y_pred_test, pos_label=1) * 100\n",
        "\n",
        "# Print the precision values\n",
        "print(f\"Training Precision: {precision_train:.2f}%\")\n",
        "print(f\"Test Precision: {precision_test:.2f}%\")\n",
        "\n",
        "# Determine if precision has increased or decreased\n",
        "if precision_train > precision_test:\n",
        "    print(\"Training Precision > Test Precision\")\n",
        "elif precision_train < precision_test:\n",
        "    print(\"Training Precision < Test Precision\")\n",
        "else:\n",
        "    print(\"Training Precision = Test Precision\")"
      ],
      "metadata": {
        "colab": {
          "base_uri": "https://localhost:8080/"
        },
        "id": "f9_rPq7u2MqN",
        "outputId": "d8b5d742-4d9a-4683-ced9-522d8bf8b87b"
      },
      "execution_count": 115,
      "outputs": [
        {
          "output_type": "stream",
          "name": "stdout",
          "text": [
            "Training Precision: 84.96%\n",
            "Test Precision: 68.52%\n",
            "Training Precision > Test Precision\n"
          ]
        }
      ]
    },
    {
      "cell_type": "code",
      "source": [],
      "metadata": {
        "id": "WT-ry06F2ybn"
      },
      "execution_count": 115,
      "outputs": []
    }
  ]
}